{
 "cells": [
  {
   "cell_type": "code",
   "execution_count": 1,
   "metadata": {},
   "outputs": [
    {
     "name": "stdout",
     "output_type": "stream",
     "text": [
      "Requirement already satisfied: cenpy in /Users/alben/opt/anaconda3/lib/python3.7/site-packages (1.0.0.post4)\n",
      "Requirement already satisfied: libpysal in /Users/alben/opt/anaconda3/lib/python3.7/site-packages (from cenpy) (4.4.0)\n",
      "Requirement already satisfied: numpy in /Users/alben/opt/anaconda3/lib/python3.7/site-packages (from cenpy) (1.20.1)\n",
      "Requirement already satisfied: rtree in /Users/alben/opt/anaconda3/lib/python3.7/site-packages (from cenpy) (0.9.3)\n",
      "Requirement already satisfied: fuzzywuzzy in /Users/alben/opt/anaconda3/lib/python3.7/site-packages (from cenpy) (0.18.0)\n",
      "Requirement already satisfied: six in /Users/alben/opt/anaconda3/lib/python3.7/site-packages (from cenpy) (1.14.0)\n",
      "Requirement already satisfied: geopandas in /Users/alben/opt/anaconda3/lib/python3.7/site-packages (from cenpy) (0.8.2)\n",
      "Requirement already satisfied: requests in /Users/alben/opt/anaconda3/lib/python3.7/site-packages (from cenpy) (2.25.1)\n",
      "Requirement already satisfied: pandas in /Users/alben/opt/anaconda3/lib/python3.7/site-packages (from cenpy) (1.2.2)\n",
      "Requirement already satisfied: scipy>=0.11 in /Users/alben/opt/anaconda3/lib/python3.7/site-packages (from libpysal->cenpy) (1.4.1)\n",
      "Requirement already satisfied: beautifulsoup4 in /Users/alben/opt/anaconda3/lib/python3.7/site-packages (from libpysal->cenpy) (4.8.2)\n",
      "Requirement already satisfied: jinja2 in /Users/alben/opt/anaconda3/lib/python3.7/site-packages (from libpysal->cenpy) (2.11.1)\n",
      "Requirement already satisfied: setuptools in /Users/alben/opt/anaconda3/lib/python3.7/site-packages (from rtree->cenpy) (46.0.0.post20200309)\n",
      "Requirement already satisfied: pyproj>=2.2.0 in /Users/alben/opt/anaconda3/lib/python3.7/site-packages (from geopandas->cenpy) (2.6.1.post1)\n",
      "Requirement already satisfied: fiona in /Users/alben/opt/anaconda3/lib/python3.7/site-packages (from geopandas->cenpy) (1.8.13.post1)\n",
      "Requirement already satisfied: shapely in /Users/alben/opt/anaconda3/lib/python3.7/site-packages (from geopandas->cenpy) (1.7.0)\n",
      "Requirement already satisfied: certifi>=2017.4.17 in /Users/alben/opt/anaconda3/lib/python3.7/site-packages (from requests->cenpy) (2019.11.28)\n",
      "Requirement already satisfied: chardet<5,>=3.0.2 in /Users/alben/opt/anaconda3/lib/python3.7/site-packages (from requests->cenpy) (3.0.4)\n",
      "Requirement already satisfied: idna<3,>=2.5 in /Users/alben/opt/anaconda3/lib/python3.7/site-packages (from requests->cenpy) (2.8)\n",
      "Requirement already satisfied: urllib3<1.27,>=1.21.1 in /Users/alben/opt/anaconda3/lib/python3.7/site-packages (from requests->cenpy) (1.25.8)\n",
      "Requirement already satisfied: pytz>=2017.3 in /Users/alben/opt/anaconda3/lib/python3.7/site-packages (from pandas->cenpy) (2019.3)\n",
      "Requirement already satisfied: python-dateutil>=2.7.3 in /Users/alben/opt/anaconda3/lib/python3.7/site-packages (from pandas->cenpy) (2.8.1)\n",
      "Requirement already satisfied: soupsieve>=1.2 in /Users/alben/opt/anaconda3/lib/python3.7/site-packages (from beautifulsoup4->libpysal->cenpy) (1.9.5)\n",
      "Requirement already satisfied: MarkupSafe>=0.23 in /Users/alben/opt/anaconda3/lib/python3.7/site-packages (from jinja2->libpysal->cenpy) (1.1.1)\n",
      "Requirement already satisfied: click<8,>=4.0 in /Users/alben/opt/anaconda3/lib/python3.7/site-packages (from fiona->geopandas->cenpy) (7.0)\n",
      "Requirement already satisfied: attrs>=17 in /Users/alben/opt/anaconda3/lib/python3.7/site-packages (from fiona->geopandas->cenpy) (19.3.0)\n",
      "Requirement already satisfied: click-plugins>=1.0 in /Users/alben/opt/anaconda3/lib/python3.7/site-packages (from fiona->geopandas->cenpy) (1.1.1)\n",
      "Requirement already satisfied: munch in /Users/alben/opt/anaconda3/lib/python3.7/site-packages (from fiona->geopandas->cenpy) (2.5.0)\n",
      "Requirement already satisfied: cligj>=0.5 in /Users/alben/opt/anaconda3/lib/python3.7/site-packages (from fiona->geopandas->cenpy) (0.5.0)\n",
      "Requirement already satisfied: python-Levenshtein in /Users/alben/opt/anaconda3/lib/python3.7/site-packages (0.12.2)\n",
      "Requirement already satisfied: setuptools in /Users/alben/opt/anaconda3/lib/python3.7/site-packages (from python-Levenshtein) (46.0.0.post20200309)\n",
      "Requirement already satisfied: contextily in /Users/alben/opt/anaconda3/lib/python3.7/site-packages (1.0.0)\n",
      "Requirement already satisfied: mercantile in /Users/alben/opt/anaconda3/lib/python3.7/site-packages (from contextily) (1.1.5)\n",
      "Requirement already satisfied: geopy in /Users/alben/opt/anaconda3/lib/python3.7/site-packages (from contextily) (2.0.0)\n",
      "Requirement already satisfied: pillow in /Users/alben/opt/anaconda3/lib/python3.7/site-packages (from contextily) (7.0.0)\n",
      "Requirement already satisfied: requests in /Users/alben/opt/anaconda3/lib/python3.7/site-packages (from contextily) (2.25.1)\n",
      "Requirement already satisfied: joblib in /Users/alben/opt/anaconda3/lib/python3.7/site-packages (from contextily) (0.14.1)\n",
      "Requirement already satisfied: rasterio in /Users/alben/opt/anaconda3/lib/python3.7/site-packages (from contextily) (1.1.5)\n",
      "Requirement already satisfied: matplotlib in /Users/alben/opt/anaconda3/lib/python3.7/site-packages (from contextily) (3.3.4)\n",
      "Requirement already satisfied: click>=3.0 in /Users/alben/opt/anaconda3/lib/python3.7/site-packages (from mercantile->contextily) (7.0)\n",
      "Requirement already satisfied: geographiclib<2,>=1.49 in /Users/alben/opt/anaconda3/lib/python3.7/site-packages (from geopy->contextily) (1.50)\n",
      "Requirement already satisfied: chardet<5,>=3.0.2 in /Users/alben/opt/anaconda3/lib/python3.7/site-packages (from requests->contextily) (3.0.4)\n",
      "Requirement already satisfied: urllib3<1.27,>=1.21.1 in /Users/alben/opt/anaconda3/lib/python3.7/site-packages (from requests->contextily) (1.25.8)\n",
      "Requirement already satisfied: certifi>=2017.4.17 in /Users/alben/opt/anaconda3/lib/python3.7/site-packages (from requests->contextily) (2019.11.28)\n",
      "Requirement already satisfied: idna<3,>=2.5 in /Users/alben/opt/anaconda3/lib/python3.7/site-packages (from requests->contextily) (2.8)\n",
      "Requirement already satisfied: attrs in /Users/alben/opt/anaconda3/lib/python3.7/site-packages (from rasterio->contextily) (19.3.0)\n",
      "Requirement already satisfied: snuggs>=1.4.1 in /Users/alben/opt/anaconda3/lib/python3.7/site-packages (from rasterio->contextily) (1.4.7)\n",
      "Requirement already satisfied: cligj>=0.5 in /Users/alben/opt/anaconda3/lib/python3.7/site-packages (from rasterio->contextily) (0.5.0)\n",
      "Requirement already satisfied: click-plugins in /Users/alben/opt/anaconda3/lib/python3.7/site-packages (from rasterio->contextily) (1.1.1)\n",
      "Requirement already satisfied: numpy in /Users/alben/opt/anaconda3/lib/python3.7/site-packages (from rasterio->contextily) (1.20.1)\n",
      "Requirement already satisfied: affine in /Users/alben/opt/anaconda3/lib/python3.7/site-packages (from rasterio->contextily) (2.3.0)\n",
      "Requirement already satisfied: cycler>=0.10 in /Users/alben/opt/anaconda3/lib/python3.7/site-packages (from matplotlib->contextily) (0.10.0)\n",
      "Requirement already satisfied: kiwisolver>=1.0.1 in /Users/alben/opt/anaconda3/lib/python3.7/site-packages (from matplotlib->contextily) (1.1.0)\n",
      "Requirement already satisfied: pyparsing!=2.0.4,!=2.1.2,!=2.1.6,>=2.0.3 in /Users/alben/opt/anaconda3/lib/python3.7/site-packages (from matplotlib->contextily) (2.4.6)\n",
      "Requirement already satisfied: python-dateutil>=2.1 in /Users/alben/opt/anaconda3/lib/python3.7/site-packages (from matplotlib->contextily) (2.8.1)\n",
      "Requirement already satisfied: six in /Users/alben/opt/anaconda3/lib/python3.7/site-packages (from cycler>=0.10->matplotlib->contextily) (1.14.0)\n",
      "Requirement already satisfied: setuptools in /Users/alben/opt/anaconda3/lib/python3.7/site-packages (from kiwisolver>=1.0.1->matplotlib->contextily) (46.0.0.post20200309)\n",
      "Collecting geopandas==0.9\n",
      "  Downloading geopandas-0.9.0-py2.py3-none-any.whl (994 kB)\n",
      "\u001b[K     |████████████████████████████████| 994 kB 6.2 MB/s eta 0:00:01\n",
      "\u001b[?25hRequirement already satisfied: shapely>=1.6 in /Users/alben/opt/anaconda3/lib/python3.7/site-packages (from geopandas==0.9) (1.7.0)\n",
      "Requirement already satisfied: pandas>=0.24.0 in /Users/alben/opt/anaconda3/lib/python3.7/site-packages (from geopandas==0.9) (1.2.2)\n",
      "Requirement already satisfied: fiona>=1.8 in /Users/alben/opt/anaconda3/lib/python3.7/site-packages (from geopandas==0.9) (1.8.13.post1)\n"
     ]
    },
    {
     "name": "stdout",
     "output_type": "stream",
     "text": [
      "Requirement already satisfied: pyproj>=2.2.0 in /Users/alben/opt/anaconda3/lib/python3.7/site-packages (from geopandas==0.9) (2.6.1.post1)\n",
      "Requirement already satisfied: python-dateutil>=2.7.3 in /Users/alben/opt/anaconda3/lib/python3.7/site-packages (from pandas>=0.24.0->geopandas==0.9) (2.8.1)\n",
      "Requirement already satisfied: numpy>=1.16.5 in /Users/alben/opt/anaconda3/lib/python3.7/site-packages (from pandas>=0.24.0->geopandas==0.9) (1.20.1)\n",
      "Requirement already satisfied: pytz>=2017.3 in /Users/alben/opt/anaconda3/lib/python3.7/site-packages (from pandas>=0.24.0->geopandas==0.9) (2019.3)\n",
      "Requirement already satisfied: cligj>=0.5 in /Users/alben/opt/anaconda3/lib/python3.7/site-packages (from fiona>=1.8->geopandas==0.9) (0.5.0)\n",
      "Requirement already satisfied: click-plugins>=1.0 in /Users/alben/opt/anaconda3/lib/python3.7/site-packages (from fiona>=1.8->geopandas==0.9) (1.1.1)\n",
      "Requirement already satisfied: six>=1.7 in /Users/alben/opt/anaconda3/lib/python3.7/site-packages (from fiona>=1.8->geopandas==0.9) (1.14.0)\n",
      "Requirement already satisfied: attrs>=17 in /Users/alben/opt/anaconda3/lib/python3.7/site-packages (from fiona>=1.8->geopandas==0.9) (19.3.0)\n",
      "Requirement already satisfied: click<8,>=4.0 in /Users/alben/opt/anaconda3/lib/python3.7/site-packages (from fiona>=1.8->geopandas==0.9) (7.0)\n",
      "Requirement already satisfied: munch in /Users/alben/opt/anaconda3/lib/python3.7/site-packages (from fiona>=1.8->geopandas==0.9) (2.5.0)\n",
      "Installing collected packages: geopandas\n",
      "  Attempting uninstall: geopandas\n",
      "    Found existing installation: geopandas 0.8.2\n",
      "    Uninstalling geopandas-0.8.2:\n",
      "      Successfully uninstalled geopandas-0.8.2\n",
      "Successfully installed geopandas-0.9.0\n",
      "Requirement already satisfied: rtree in /Users/alben/opt/anaconda3/lib/python3.7/site-packages (0.9.3)\n",
      "Requirement already satisfied: setuptools in /Users/alben/opt/anaconda3/lib/python3.7/site-packages (from rtree) (46.0.0.post20200309)\n"
     ]
    }
   ],
   "source": [
    "!pip install cenpy\n",
    "!pip install python-Levenshtein\n",
    "!pip install contextily\n",
    "!pip install geopandas==0.9\n",
    "!pip install rtree"
   ]
  },
  {
   "cell_type": "markdown",
   "metadata": {},
   "source": [
    "# Extracting data for Alameda County, California\n",
    "\n",
    "This dataset contains an extract of a set of variables from the 2017 ACS Census Tracts for the Oakland City (CA) "
   ]
  },
  {
   "cell_type": "code",
   "execution_count": 33,
   "metadata": {},
   "outputs": [],
   "source": [
    "import contextily\n",
    "import geopandas\n",
    "import cenpy\n",
    "\n",
    "acs = cenpy.products.ACS(2017)"
   ]
  },
  {
   "cell_type": "markdown",
   "metadata": {},
   "source": [
    "## CENPY Documentation: \n",
    "https://cenpy-devs.github.io/cenpy/\n"
   ]
  },
  {
   "cell_type": "markdown",
   "metadata": {},
   "source": [
    "## Download Data"
   ]
  },
  {
   "cell_type": "markdown",
   "metadata": {},
   "source": [
    "- Set variables to download"
   ]
  },
  {
   "cell_type": "code",
   "execution_count": 4,
   "metadata": {},
   "outputs": [],
   "source": [
    "vars_to_download = {\n",
    "    \"B02001_002E\": \"total_pop_white\",     # Total white population\n",
    "    \"B02001_003E\": \"total_pop_black\",     #Total black population\n",
    "    \"B01003_001E\": \"total_pop\",           # Total population\n",
    "    \"B09019_001E\": \"hh_total\",            # Total households\n",
    "    \"B15003_022E\": \"total_bachelor\",      # Total w/ Bachelor degree B06009_005E\n",
    "    \"B01002_001E\": \"median_age\",          # Median age\n",
    "    \"B19013_001E\": \"median_hh_income\",     # Median household income \n",
    "    \"B19058_001E\": \"SNAP_hh\",              # Households receiving Food Stamps/SNAP \n",
    "    \"B08015_001E\": \"access_to_vehicle\",     # Workers over age 16 that drove alone to work by car, van, truck\n",
    "    \"B02001_005E\": \"total_pop_asian\",      # Total asian population\n",
    "    \"B02001_007E\": \"total_other_race\",      # Total other race population\n",
    "    \"B01001I_001E\": \"total_hispanic\",       # Total hispanic population     \n",
    "}\n",
    "vars_to_download_l = list(vars_to_download.keys())"
   ]
  },
  {
   "cell_type": "code",
   "execution_count": 6,
   "metadata": {},
   "outputs": [],
   "source": [
    "db=[]"
   ]
  },
  {
   "cell_type": "markdown",
   "metadata": {},
   "source": [
    "source for other variable names: https://api.census.gov/data/2017/acs/acs5/variables.html\u000b"
   ]
  },
  {
   "cell_type": "markdown",
   "metadata": {},
   "source": [
    "- Download geometries and attributes (***this can take sometime***)"
   ]
  },
  {
   "cell_type": "code",
   "execution_count": 20,
   "metadata": {},
   "outputs": [
    {
     "name": "stderr",
     "output_type": "stream",
     "text": [
      "/Users/marta/opt/anaconda3/lib/python3.7/site-packages/pyproj/crs/crs.py:53: FutureWarning: '+init=<authority>:<code>' syntax is deprecated. '<authority>:<code>' is the preferred initialization method. When making the change, be mindful of axis order changes: https://pyproj4.github.io/pyproj/stable/gotchas.html#axis-order-changes-in-proj-6\n",
      "  return _prepare_from_string(\" \".join(pjargs))\n"
     ]
    },
    {
     "name": "stdout",
     "output_type": "stream",
     "text": [
      "CPU times: user 1.28 s, sys: 36.1 ms, total: 1.32 s\n",
      "Wall time: 16.5 s\n"
     ]
    }
   ],
   "source": [
    "%%time\n",
    "db = acs.from_county(\"Alameda, CA\",\n",
    "                  level=\"tract\",\n",
    "                  variables=vars_to_download_l)"
   ]
  },
  {
   "cell_type": "code",
   "execution_count": 21,
   "metadata": {},
   "outputs": [
    {
     "name": "stdout",
     "output_type": "stream",
     "text": [
      "<class 'geopandas.geodataframe.GeoDataFrame'>\n",
      "Int64Index: 361 entries, 0 to 360\n",
      "Data columns (total 18 columns):\n",
      " #   Column        Non-Null Count  Dtype   \n",
      "---  ------        --------------  -----   \n",
      " 0   GEOID         361 non-null    object  \n",
      " 1   geometry      361 non-null    geometry\n",
      " 2   B01001I_001E  361 non-null    float64 \n",
      " 3   B01002_001E   360 non-null    float64 \n",
      " 4   B01003_001E   361 non-null    float64 \n",
      " 5   B02001_002E   361 non-null    float64 \n",
      " 6   B02001_003E   361 non-null    float64 \n",
      " 7   B02001_005E   361 non-null    float64 \n",
      " 8   B02001_007E   361 non-null    float64 \n",
      " 9   B08015_001E   357 non-null    float64 \n",
      " 10  B09019_001E   361 non-null    float64 \n",
      " 11  B15003_022E   361 non-null    float64 \n",
      " 12  B19013_001E   360 non-null    float64 \n",
      " 13  B19058_001E   361 non-null    float64 \n",
      " 14  NAME          361 non-null    object  \n",
      " 15  state         361 non-null    object  \n",
      " 16  county        361 non-null    object  \n",
      " 17  tract         361 non-null    object  \n",
      "dtypes: float64(12), geometry(1), object(5)\n",
      "memory usage: 53.6+ KB\n"
     ]
    }
   ],
   "source": [
    "db.info()"
   ]
  },
  {
   "cell_type": "code",
   "execution_count": 22,
   "metadata": {},
   "outputs": [
    {
     "data": {
      "text/html": [
       "<div>\n",
       "<style scoped>\n",
       "    .dataframe tbody tr th:only-of-type {\n",
       "        vertical-align: middle;\n",
       "    }\n",
       "\n",
       "    .dataframe tbody tr th {\n",
       "        vertical-align: top;\n",
       "    }\n",
       "\n",
       "    .dataframe thead th {\n",
       "        text-align: right;\n",
       "    }\n",
       "</style>\n",
       "<table border=\"1\" class=\"dataframe\">\n",
       "  <thead>\n",
       "    <tr style=\"text-align: right;\">\n",
       "      <th></th>\n",
       "      <th>GEOID</th>\n",
       "      <th>geometry</th>\n",
       "      <th>B01001I_001E</th>\n",
       "      <th>B01002_001E</th>\n",
       "      <th>B01003_001E</th>\n",
       "      <th>B02001_002E</th>\n",
       "      <th>B02001_003E</th>\n",
       "      <th>B02001_005E</th>\n",
       "      <th>B02001_007E</th>\n",
       "      <th>B08015_001E</th>\n",
       "      <th>B09019_001E</th>\n",
       "      <th>B15003_022E</th>\n",
       "      <th>B19013_001E</th>\n",
       "      <th>B19058_001E</th>\n",
       "      <th>NAME</th>\n",
       "      <th>state</th>\n",
       "      <th>county</th>\n",
       "      <th>tract</th>\n",
       "    </tr>\n",
       "  </thead>\n",
       "  <tbody>\n",
       "    <tr>\n",
       "      <th>0</th>\n",
       "      <td>06001441524</td>\n",
       "      <td>POLYGON ((-13587578.570 4518775.620, -13587550...</td>\n",
       "      <td>197.0</td>\n",
       "      <td>36.3</td>\n",
       "      <td>4432.0</td>\n",
       "      <td>559.0</td>\n",
       "      <td>79.0</td>\n",
       "      <td>3644.0</td>\n",
       "      <td>22.0</td>\n",
       "      <td>1225.0</td>\n",
       "      <td>4432.0</td>\n",
       "      <td>973.0</td>\n",
       "      <td>146250.0</td>\n",
       "      <td>1399.0</td>\n",
       "      <td>Census Tract 4415.24, Alameda County, California</td>\n",
       "      <td>06</td>\n",
       "      <td>001</td>\n",
       "      <td>441524</td>\n",
       "    </tr>\n",
       "    <tr>\n",
       "      <th>1</th>\n",
       "      <td>06001444100</td>\n",
       "      <td>POLYGON ((-13586775.400 4516294.100, -13586758...</td>\n",
       "      <td>2251.0</td>\n",
       "      <td>43.4</td>\n",
       "      <td>7752.0</td>\n",
       "      <td>3848.0</td>\n",
       "      <td>76.0</td>\n",
       "      <td>2125.0</td>\n",
       "      <td>1007.0</td>\n",
       "      <td>2625.0</td>\n",
       "      <td>7752.0</td>\n",
       "      <td>1553.0</td>\n",
       "      <td>111467.0</td>\n",
       "      <td>2504.0</td>\n",
       "      <td>Census Tract 4441, Alameda County, California</td>\n",
       "      <td>06</td>\n",
       "      <td>001</td>\n",
       "      <td>444100</td>\n",
       "    </tr>\n",
       "    <tr>\n",
       "      <th>2</th>\n",
       "      <td>06001441302</td>\n",
       "      <td>POLYGON ((-13584576.390 4518985.030, -13584553...</td>\n",
       "      <td>862.0</td>\n",
       "      <td>38.6</td>\n",
       "      <td>5881.0</td>\n",
       "      <td>1808.0</td>\n",
       "      <td>166.0</td>\n",
       "      <td>2982.0</td>\n",
       "      <td>449.0</td>\n",
       "      <td>1830.0</td>\n",
       "      <td>5881.0</td>\n",
       "      <td>1411.0</td>\n",
       "      <td>115673.0</td>\n",
       "      <td>1849.0</td>\n",
       "      <td>Census Tract 4413.02, Alameda County, California</td>\n",
       "      <td>06</td>\n",
       "      <td>001</td>\n",
       "      <td>441302</td>\n",
       "    </tr>\n",
       "    <tr>\n",
       "      <th>3</th>\n",
       "      <td>06001440335</td>\n",
       "      <td>POLYGON ((-13583367.570 4521290.320, -13583346...</td>\n",
       "      <td>639.0</td>\n",
       "      <td>35.0</td>\n",
       "      <td>6979.0</td>\n",
       "      <td>1311.0</td>\n",
       "      <td>275.0</td>\n",
       "      <td>4326.0</td>\n",
       "      <td>590.0</td>\n",
       "      <td>1605.0</td>\n",
       "      <td>6979.0</td>\n",
       "      <td>1612.0</td>\n",
       "      <td>137265.0</td>\n",
       "      <td>2221.0</td>\n",
       "      <td>Census Tract 4403.35, Alameda County, California</td>\n",
       "      <td>06</td>\n",
       "      <td>001</td>\n",
       "      <td>440335</td>\n",
       "    </tr>\n",
       "    <tr>\n",
       "      <th>4</th>\n",
       "      <td>06001441200</td>\n",
       "      <td>POLYGON ((-13581697.670 4520696.960, -13581688...</td>\n",
       "      <td>1458.0</td>\n",
       "      <td>37.7</td>\n",
       "      <td>6977.0</td>\n",
       "      <td>3228.0</td>\n",
       "      <td>177.0</td>\n",
       "      <td>2410.0</td>\n",
       "      <td>605.0</td>\n",
       "      <td>2120.0</td>\n",
       "      <td>6977.0</td>\n",
       "      <td>1467.0</td>\n",
       "      <td>120658.0</td>\n",
       "      <td>2456.0</td>\n",
       "      <td>Census Tract 4412, Alameda County, California</td>\n",
       "      <td>06</td>\n",
       "      <td>001</td>\n",
       "      <td>441200</td>\n",
       "    </tr>\n",
       "  </tbody>\n",
       "</table>\n",
       "</div>"
      ],
      "text/plain": [
       "         GEOID                                           geometry  \\\n",
       "0  06001441524  POLYGON ((-13587578.570 4518775.620, -13587550...   \n",
       "1  06001444100  POLYGON ((-13586775.400 4516294.100, -13586758...   \n",
       "2  06001441302  POLYGON ((-13584576.390 4518985.030, -13584553...   \n",
       "3  06001440335  POLYGON ((-13583367.570 4521290.320, -13583346...   \n",
       "4  06001441200  POLYGON ((-13581697.670 4520696.960, -13581688...   \n",
       "\n",
       "   B01001I_001E  B01002_001E  B01003_001E  B02001_002E  B02001_003E  \\\n",
       "0         197.0         36.3       4432.0        559.0         79.0   \n",
       "1        2251.0         43.4       7752.0       3848.0         76.0   \n",
       "2         862.0         38.6       5881.0       1808.0        166.0   \n",
       "3         639.0         35.0       6979.0       1311.0        275.0   \n",
       "4        1458.0         37.7       6977.0       3228.0        177.0   \n",
       "\n",
       "   B02001_005E  B02001_007E  B08015_001E  B09019_001E  B15003_022E  \\\n",
       "0       3644.0         22.0       1225.0       4432.0        973.0   \n",
       "1       2125.0       1007.0       2625.0       7752.0       1553.0   \n",
       "2       2982.0        449.0       1830.0       5881.0       1411.0   \n",
       "3       4326.0        590.0       1605.0       6979.0       1612.0   \n",
       "4       2410.0        605.0       2120.0       6977.0       1467.0   \n",
       "\n",
       "   B19013_001E  B19058_001E                                              NAME  \\\n",
       "0     146250.0       1399.0  Census Tract 4415.24, Alameda County, California   \n",
       "1     111467.0       2504.0     Census Tract 4441, Alameda County, California   \n",
       "2     115673.0       1849.0  Census Tract 4413.02, Alameda County, California   \n",
       "3     137265.0       2221.0  Census Tract 4403.35, Alameda County, California   \n",
       "4     120658.0       2456.0     Census Tract 4412, Alameda County, California   \n",
       "\n",
       "  state county   tract  \n",
       "0    06    001  441524  \n",
       "1    06    001  444100  \n",
       "2    06    001  441302  \n",
       "3    06    001  440335  \n",
       "4    06    001  441200  "
      ]
     },
     "execution_count": 22,
     "metadata": {},
     "output_type": "execute_result"
    }
   ],
   "source": [
    "db.head()"
   ]
  },
  {
   "cell_type": "markdown",
   "metadata": {},
   "source": [
    "## Metadata"
   ]
  },
  {
   "cell_type": "markdown",
   "metadata": {},
   "source": [
    "We will also write a companion file with the names of each variable:"
   ]
  },
  {
   "cell_type": "code",
   "execution_count": 23,
   "metadata": {},
   "outputs": [],
   "source": [
    "var_names = acs.variables\\\n",
    "               .reindex(vars_to_download)\\\n",
    "               [[\"label\", \"concept\"]]\\\n",
    "               .reset_index()\\\n",
    "               .rename(columns={\"index\": \"var_id\"})\n",
    "var_names[\"short_name\"] = var_names[\"var_id\"].map(vars_to_download)"
   ]
  },
  {
   "cell_type": "code",
   "execution_count": 24,
   "metadata": {},
   "outputs": [
    {
     "data": {
      "text/html": [
       "<div>\n",
       "<style scoped>\n",
       "    .dataframe tbody tr th:only-of-type {\n",
       "        vertical-align: middle;\n",
       "    }\n",
       "\n",
       "    .dataframe tbody tr th {\n",
       "        vertical-align: top;\n",
       "    }\n",
       "\n",
       "    .dataframe thead th {\n",
       "        text-align: right;\n",
       "    }\n",
       "</style>\n",
       "<table border=\"1\" class=\"dataframe\">\n",
       "  <thead>\n",
       "    <tr style=\"text-align: right;\">\n",
       "      <th></th>\n",
       "      <th>var_id</th>\n",
       "      <th>label</th>\n",
       "      <th>concept</th>\n",
       "      <th>short_name</th>\n",
       "    </tr>\n",
       "  </thead>\n",
       "  <tbody>\n",
       "    <tr>\n",
       "      <th>0</th>\n",
       "      <td>B02001_002E</td>\n",
       "      <td>Estimate!!Total!!White alone</td>\n",
       "      <td>RACE</td>\n",
       "      <td>total_pop_white</td>\n",
       "    </tr>\n",
       "    <tr>\n",
       "      <th>1</th>\n",
       "      <td>B02001_003E</td>\n",
       "      <td>Estimate!!Total!!Black or African American alone</td>\n",
       "      <td>RACE</td>\n",
       "      <td>total_pop_black</td>\n",
       "    </tr>\n",
       "    <tr>\n",
       "      <th>2</th>\n",
       "      <td>B01003_001E</td>\n",
       "      <td>Estimate!!Total</td>\n",
       "      <td>TOTAL POPULATION</td>\n",
       "      <td>total_pop</td>\n",
       "    </tr>\n",
       "    <tr>\n",
       "      <th>3</th>\n",
       "      <td>B09019_001E</td>\n",
       "      <td>Estimate!!Total</td>\n",
       "      <td>HOUSEHOLD TYPE (INCLUDING LIVING ALONE) BY REL...</td>\n",
       "      <td>hh_total</td>\n",
       "    </tr>\n",
       "    <tr>\n",
       "      <th>4</th>\n",
       "      <td>B15003_022E</td>\n",
       "      <td>Estimate!!Total!!Bachelor's degree</td>\n",
       "      <td>EDUCATIONAL ATTAINMENT FOR THE POPULATION 25 Y...</td>\n",
       "      <td>total_bachelor</td>\n",
       "    </tr>\n",
       "    <tr>\n",
       "      <th>5</th>\n",
       "      <td>B01002_001E</td>\n",
       "      <td>Estimate!!Median age --!!Total</td>\n",
       "      <td>MEDIAN AGE BY SEX</td>\n",
       "      <td>median_age</td>\n",
       "    </tr>\n",
       "    <tr>\n",
       "      <th>6</th>\n",
       "      <td>B19013_001E</td>\n",
       "      <td>Estimate!!Median household income in the past ...</td>\n",
       "      <td>MEDIAN HOUSEHOLD INCOME IN THE PAST 12 MONTHS ...</td>\n",
       "      <td>median_hh_income</td>\n",
       "    </tr>\n",
       "    <tr>\n",
       "      <th>7</th>\n",
       "      <td>B19058_001E</td>\n",
       "      <td>Estimate!!Total</td>\n",
       "      <td>PUBLIC ASSISTANCE INCOME OR FOOD STAMPS/SNAP I...</td>\n",
       "      <td>SNAP_hh</td>\n",
       "    </tr>\n",
       "    <tr>\n",
       "      <th>8</th>\n",
       "      <td>B08015_001E</td>\n",
       "      <td>Estimate!!Aggregate number of vehicles (car, t...</td>\n",
       "      <td>AGGREGATE NUMBER OF VEHICLES (CAR, TRUCK, OR V...</td>\n",
       "      <td>access_to_vehicle</td>\n",
       "    </tr>\n",
       "    <tr>\n",
       "      <th>9</th>\n",
       "      <td>B02001_005E</td>\n",
       "      <td>Estimate!!Total!!Asian alone</td>\n",
       "      <td>RACE</td>\n",
       "      <td>total_pop_asian</td>\n",
       "    </tr>\n",
       "    <tr>\n",
       "      <th>10</th>\n",
       "      <td>B02001_007E</td>\n",
       "      <td>Estimate!!Total!!Some other race alone</td>\n",
       "      <td>RACE</td>\n",
       "      <td>total_other_race</td>\n",
       "    </tr>\n",
       "    <tr>\n",
       "      <th>11</th>\n",
       "      <td>B01001I_001E</td>\n",
       "      <td>Estimate!!Total</td>\n",
       "      <td>SEX BY AGE (HISPANIC OR LATINO)</td>\n",
       "      <td>total_hispanic</td>\n",
       "    </tr>\n",
       "  </tbody>\n",
       "</table>\n",
       "</div>"
      ],
      "text/plain": [
       "          var_id                                              label  \\\n",
       "0    B02001_002E                       Estimate!!Total!!White alone   \n",
       "1    B02001_003E   Estimate!!Total!!Black or African American alone   \n",
       "2    B01003_001E                                    Estimate!!Total   \n",
       "3    B09019_001E                                    Estimate!!Total   \n",
       "4    B15003_022E                 Estimate!!Total!!Bachelor's degree   \n",
       "5    B01002_001E                     Estimate!!Median age --!!Total   \n",
       "6    B19013_001E  Estimate!!Median household income in the past ...   \n",
       "7    B19058_001E                                    Estimate!!Total   \n",
       "8    B08015_001E  Estimate!!Aggregate number of vehicles (car, t...   \n",
       "9    B02001_005E                       Estimate!!Total!!Asian alone   \n",
       "10   B02001_007E             Estimate!!Total!!Some other race alone   \n",
       "11  B01001I_001E                                    Estimate!!Total   \n",
       "\n",
       "                                              concept         short_name  \n",
       "0                                                RACE    total_pop_white  \n",
       "1                                                RACE    total_pop_black  \n",
       "2                                    TOTAL POPULATION          total_pop  \n",
       "3   HOUSEHOLD TYPE (INCLUDING LIVING ALONE) BY REL...           hh_total  \n",
       "4   EDUCATIONAL ATTAINMENT FOR THE POPULATION 25 Y...     total_bachelor  \n",
       "5                                   MEDIAN AGE BY SEX         median_age  \n",
       "6   MEDIAN HOUSEHOLD INCOME IN THE PAST 12 MONTHS ...   median_hh_income  \n",
       "7   PUBLIC ASSISTANCE INCOME OR FOOD STAMPS/SNAP I...            SNAP_hh  \n",
       "8   AGGREGATE NUMBER OF VEHICLES (CAR, TRUCK, OR V...  access_to_vehicle  \n",
       "9                                                RACE    total_pop_asian  \n",
       "10                                               RACE   total_other_race  \n",
       "11                    SEX BY AGE (HISPANIC OR LATINO)     total_hispanic  "
      ]
     },
     "execution_count": 24,
     "metadata": {},
     "output_type": "execute_result"
    }
   ],
   "source": [
    "var_names"
   ]
  },
  {
   "cell_type": "markdown",
   "metadata": {},
   "source": [
    "## Process data\n",
    "\n",
    "While the ACS comes with a large number of attributes, we are not limited to the original variables at hand; we\n",
    "can construct additional variables. This is particularly useful when\n",
    "we want to compare areas that are not very similar in some structural\n",
    "characteristic, such as area or population. For example, a quick look into the\n",
    "variable names shows most variables are counts. For tracts of different sizes,\n",
    "these variables will mainly reflect their overall population, rather than provide direct information\n",
    "about the variables itself. To get around this, we will cast many of these count variables to rates,\n",
    "and use them in addition to a subset of the original variables. "
   ]
  },
  {
   "cell_type": "markdown",
   "metadata": {},
   "source": [
    "- Replace missing values with columns mean"
   ]
  },
  {
   "cell_type": "code",
   "execution_count": 25,
   "metadata": {},
   "outputs": [
    {
     "data": {
      "text/plain": [
       "{'B02001_002E': 'total_pop_white',\n",
       " 'B02001_003E': 'total_pop_black',\n",
       " 'B01003_001E': 'total_pop',\n",
       " 'B09019_001E': 'hh_total',\n",
       " 'B15003_022E': 'total_bachelor',\n",
       " 'B01002_001E': 'median_age',\n",
       " 'B19013_001E': 'median_hh_income',\n",
       " 'B19058_001E': 'SNAP_hh',\n",
       " 'B08015_001E': 'access_to_vehicle',\n",
       " 'B02001_005E': 'total_pop_asian',\n",
       " 'B02001_007E': 'total_other_race',\n",
       " 'B01001I_001E': 'total_hispanic'}"
      ]
     },
     "execution_count": 25,
     "metadata": {},
     "output_type": "execute_result"
    }
   ],
   "source": [
    "vars_to_download"
   ]
  },
  {
   "cell_type": "code",
   "execution_count": 26,
   "metadata": {},
   "outputs": [],
   "source": [
    "filler = lambda col: col.fillna(col.mean())\n",
    "db.loc[:, vars_to_download] = db.loc[:, vars_to_download]\\\n",
    "                                .apply(filler)"
   ]
  },
  {
   "cell_type": "code",
   "execution_count": 27,
   "metadata": {},
   "outputs": [],
   "source": [
    "db = db.rename(columns=vars_to_download)  #rename columns"
   ]
  },
  {
   "cell_type": "code",
   "execution_count": 28,
   "metadata": {},
   "outputs": [
    {
     "data": {
      "text/html": [
       "<div>\n",
       "<style scoped>\n",
       "    .dataframe tbody tr th:only-of-type {\n",
       "        vertical-align: middle;\n",
       "    }\n",
       "\n",
       "    .dataframe tbody tr th {\n",
       "        vertical-align: top;\n",
       "    }\n",
       "\n",
       "    .dataframe thead th {\n",
       "        text-align: right;\n",
       "    }\n",
       "</style>\n",
       "<table border=\"1\" class=\"dataframe\">\n",
       "  <thead>\n",
       "    <tr style=\"text-align: right;\">\n",
       "      <th></th>\n",
       "      <th>GEOID</th>\n",
       "      <th>geometry</th>\n",
       "      <th>total_hispanic</th>\n",
       "      <th>median_age</th>\n",
       "      <th>total_pop</th>\n",
       "      <th>total_pop_white</th>\n",
       "      <th>total_pop_black</th>\n",
       "      <th>total_pop_asian</th>\n",
       "      <th>total_other_race</th>\n",
       "      <th>access_to_vehicle</th>\n",
       "      <th>hh_total</th>\n",
       "      <th>total_bachelor</th>\n",
       "      <th>median_hh_income</th>\n",
       "      <th>SNAP_hh</th>\n",
       "      <th>NAME</th>\n",
       "      <th>state</th>\n",
       "      <th>county</th>\n",
       "      <th>tract</th>\n",
       "    </tr>\n",
       "  </thead>\n",
       "  <tbody>\n",
       "    <tr>\n",
       "      <th>0</th>\n",
       "      <td>06001441524</td>\n",
       "      <td>POLYGON ((-13587578.570 4518775.620, -13587550...</td>\n",
       "      <td>197.0</td>\n",
       "      <td>36.3</td>\n",
       "      <td>4432.0</td>\n",
       "      <td>559.0</td>\n",
       "      <td>79.0</td>\n",
       "      <td>3644.0</td>\n",
       "      <td>22.0</td>\n",
       "      <td>1225.0</td>\n",
       "      <td>4432.0</td>\n",
       "      <td>973.0</td>\n",
       "      <td>146250.0</td>\n",
       "      <td>1399.0</td>\n",
       "      <td>Census Tract 4415.24, Alameda County, California</td>\n",
       "      <td>06</td>\n",
       "      <td>001</td>\n",
       "      <td>441524</td>\n",
       "    </tr>\n",
       "    <tr>\n",
       "      <th>1</th>\n",
       "      <td>06001444100</td>\n",
       "      <td>POLYGON ((-13586775.400 4516294.100, -13586758...</td>\n",
       "      <td>2251.0</td>\n",
       "      <td>43.4</td>\n",
       "      <td>7752.0</td>\n",
       "      <td>3848.0</td>\n",
       "      <td>76.0</td>\n",
       "      <td>2125.0</td>\n",
       "      <td>1007.0</td>\n",
       "      <td>2625.0</td>\n",
       "      <td>7752.0</td>\n",
       "      <td>1553.0</td>\n",
       "      <td>111467.0</td>\n",
       "      <td>2504.0</td>\n",
       "      <td>Census Tract 4441, Alameda County, California</td>\n",
       "      <td>06</td>\n",
       "      <td>001</td>\n",
       "      <td>444100</td>\n",
       "    </tr>\n",
       "    <tr>\n",
       "      <th>2</th>\n",
       "      <td>06001441302</td>\n",
       "      <td>POLYGON ((-13584576.390 4518985.030, -13584553...</td>\n",
       "      <td>862.0</td>\n",
       "      <td>38.6</td>\n",
       "      <td>5881.0</td>\n",
       "      <td>1808.0</td>\n",
       "      <td>166.0</td>\n",
       "      <td>2982.0</td>\n",
       "      <td>449.0</td>\n",
       "      <td>1830.0</td>\n",
       "      <td>5881.0</td>\n",
       "      <td>1411.0</td>\n",
       "      <td>115673.0</td>\n",
       "      <td>1849.0</td>\n",
       "      <td>Census Tract 4413.02, Alameda County, California</td>\n",
       "      <td>06</td>\n",
       "      <td>001</td>\n",
       "      <td>441302</td>\n",
       "    </tr>\n",
       "    <tr>\n",
       "      <th>3</th>\n",
       "      <td>06001440335</td>\n",
       "      <td>POLYGON ((-13583367.570 4521290.320, -13583346...</td>\n",
       "      <td>639.0</td>\n",
       "      <td>35.0</td>\n",
       "      <td>6979.0</td>\n",
       "      <td>1311.0</td>\n",
       "      <td>275.0</td>\n",
       "      <td>4326.0</td>\n",
       "      <td>590.0</td>\n",
       "      <td>1605.0</td>\n",
       "      <td>6979.0</td>\n",
       "      <td>1612.0</td>\n",
       "      <td>137265.0</td>\n",
       "      <td>2221.0</td>\n",
       "      <td>Census Tract 4403.35, Alameda County, California</td>\n",
       "      <td>06</td>\n",
       "      <td>001</td>\n",
       "      <td>440335</td>\n",
       "    </tr>\n",
       "    <tr>\n",
       "      <th>4</th>\n",
       "      <td>06001441200</td>\n",
       "      <td>POLYGON ((-13581697.670 4520696.960, -13581688...</td>\n",
       "      <td>1458.0</td>\n",
       "      <td>37.7</td>\n",
       "      <td>6977.0</td>\n",
       "      <td>3228.0</td>\n",
       "      <td>177.0</td>\n",
       "      <td>2410.0</td>\n",
       "      <td>605.0</td>\n",
       "      <td>2120.0</td>\n",
       "      <td>6977.0</td>\n",
       "      <td>1467.0</td>\n",
       "      <td>120658.0</td>\n",
       "      <td>2456.0</td>\n",
       "      <td>Census Tract 4412, Alameda County, California</td>\n",
       "      <td>06</td>\n",
       "      <td>001</td>\n",
       "      <td>441200</td>\n",
       "    </tr>\n",
       "  </tbody>\n",
       "</table>\n",
       "</div>"
      ],
      "text/plain": [
       "         GEOID                                           geometry  \\\n",
       "0  06001441524  POLYGON ((-13587578.570 4518775.620, -13587550...   \n",
       "1  06001444100  POLYGON ((-13586775.400 4516294.100, -13586758...   \n",
       "2  06001441302  POLYGON ((-13584576.390 4518985.030, -13584553...   \n",
       "3  06001440335  POLYGON ((-13583367.570 4521290.320, -13583346...   \n",
       "4  06001441200  POLYGON ((-13581697.670 4520696.960, -13581688...   \n",
       "\n",
       "   total_hispanic  median_age  total_pop  total_pop_white  total_pop_black  \\\n",
       "0           197.0        36.3     4432.0            559.0             79.0   \n",
       "1          2251.0        43.4     7752.0           3848.0             76.0   \n",
       "2           862.0        38.6     5881.0           1808.0            166.0   \n",
       "3           639.0        35.0     6979.0           1311.0            275.0   \n",
       "4          1458.0        37.7     6977.0           3228.0            177.0   \n",
       "\n",
       "   total_pop_asian  total_other_race  access_to_vehicle  hh_total  \\\n",
       "0           3644.0              22.0             1225.0    4432.0   \n",
       "1           2125.0            1007.0             2625.0    7752.0   \n",
       "2           2982.0             449.0             1830.0    5881.0   \n",
       "3           4326.0             590.0             1605.0    6979.0   \n",
       "4           2410.0             605.0             2120.0    6977.0   \n",
       "\n",
       "   total_bachelor  median_hh_income  SNAP_hh  \\\n",
       "0           973.0          146250.0   1399.0   \n",
       "1          1553.0          111467.0   2504.0   \n",
       "2          1411.0          115673.0   1849.0   \n",
       "3          1612.0          137265.0   2221.0   \n",
       "4          1467.0          120658.0   2456.0   \n",
       "\n",
       "                                               NAME state county   tract  \n",
       "0  Census Tract 4415.24, Alameda County, California    06    001  441524  \n",
       "1     Census Tract 4441, Alameda County, California    06    001  444100  \n",
       "2  Census Tract 4413.02, Alameda County, California    06    001  441302  \n",
       "3  Census Tract 4403.35, Alameda County, California    06    001  440335  \n",
       "4     Census Tract 4412, Alameda County, California    06    001  441200  "
      ]
     },
     "execution_count": 28,
     "metadata": {},
     "output_type": "execute_result"
    }
   ],
   "source": [
    "db.head()"
   ]
  },
  {
   "cell_type": "markdown",
   "metadata": {},
   "source": [
    "- Map the region"
   ]
  },
  {
   "cell_type": "code",
   "execution_count": 29,
   "metadata": {},
   "outputs": [
    {
     "data": {
      "image/png": "[encoded data removed]",
      "text/plain": [
       "<Figure size 432x288 with 1 Axes>"
      ]
     },
     "metadata": {
      "needs_background": "light"
     },
     "output_type": "display_data"
    }
   ],
   "source": [
    "ax = db.plot(alpha=0.5, color=\"k\")\n",
    "db.plot(ax=ax, color=\"yellow\")\n",
    "contextily.add_basemap(ax,crs=db.crs);"
   ]
  },
  {
   "cell_type": "markdown",
   "metadata": {},
   "source": [
    "## Use the code of sandiego_tracts_cleaning.ipynb to add relevant columns to your data sets. Examples are:\n",
    "\n",
    "New Data Columns: \n",
    "- pct_white           \n",
    "#Fraction of White Population per Track (total_pop_white/total_pop)\n",
    "- pct_black         \n",
    "#Fraction of Black Population per Track (total_pop_black/total_pop)\n",
    "- pct_bachelor        \n",
    "#Fraction of Population with Bachelors degree per Track (total_bachelor/total_pop) \n",
    "- pct_hispanic  \n",
    "#Fraction of Hispanic Population per Track (total_hispanic/total_pop)\n",
    "- veh_per_pop         \n",
    "#Ratio of Workers with Access to Vehicle per Population (access_to_vehicle/total_pop)\n",
    "- pct_SNAP_hh     \n",
    "#Households receiving Food Stamps/SNAP (access_to_vehicle/hh_total) "
   ]
  },
  {
   "cell_type": "markdown",
   "metadata": {},
   "source": [
    "## Export the data as a shapefile: alameda_tracts.gpkg (sandiego_tracts_cleaning.ipynb) to answer the questions of Part 2\n"
   ]
  },
  {
   "cell_type": "markdown",
   "metadata": {},
   "source": [
    "### Part 2-  Q1: Select 6 relevant census variables to do K-means clustering, and justify their selection (20 pts)"
   ]
  },
  {
   "cell_type": "markdown",
   "metadata": {},
   "source": [
    "### Part 2- Q2: Present the result of K-means clustering with three clusters (k=3) and five clusters (k=5),  show in each case the distributions of each cluster and the maps (50 pts)"
   ]
  },
  {
   "cell_type": "markdown",
   "metadata": {},
   "source": [
    "### Part 2- Q3: In each of the two clustering results, what cluster group the vulnerable population in term of food stamp needs and no access to vehicles? (30 pts)"
   ]
  },
  {
   "cell_type": "code",
   "execution_count": null,
   "metadata": {},
   "outputs": [],
   "source": []
  }
 ],
 "metadata": {
  "kernelspec": {
   "display_name": "Python 3",
   "language": "python",
   "name": "python3"
  },
  "language_info": {
   "codemirror_mode": {
    "name": "ipython",
    "version": 3
   },
   "file_extension": ".py",
   "mimetype": "text/x-python",
   "name": "python",
   "nbconvert_exporter": "python",
   "pygments_lexer": "ipython3",
   "version": "3.7.6"
  },
  "varInspector": {
   "cols": {
    "lenName": 16,
    "lenType": 16,
    "lenVar": 40
   },
   "kernels_config": {
    "python": {
     "delete_cmd_postfix": "",
     "delete_cmd_prefix": "del ",
     "library": "var_list.py",
     "varRefreshCmd": "print(var_dic_list())"
    },
    "r": {
     "delete_cmd_postfix": ") ",
     "delete_cmd_prefix": "rm(",
     "library": "var_list.r",
     "varRefreshCmd": "cat(var_dic_list()) "
    }
   },
   "types_to_exclude": [
    "module",
    "function",
    "builtin_function_or_method",
    "instance",
    "_Feature"
   ],
   "window_display": false
  }
 },
 "nbformat": 4,
 "nbformat_minor": 4
}
