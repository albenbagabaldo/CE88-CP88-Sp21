{
 "cells": [
  {
   "cell_type": "code",
   "execution_count": 1,
   "metadata": {},
   "outputs": [
    {
     "name": "stdout",
     "output_type": "stream",
     "text": [
      "Requirement already satisfied: geopandas==0.8.2 in /Users/alben/opt/anaconda3/lib/python3.7/site-packages (0.8.2)\n",
      "Requirement already satisfied: fiona in /Users/alben/opt/anaconda3/lib/python3.7/site-packages (from geopandas==0.8.2) (1.8.13.post1)\n",
      "Requirement already satisfied: pandas>=0.23.0 in /Users/alben/opt/anaconda3/lib/python3.7/site-packages (from geopandas==0.8.2) (1.2.2)\n",
      "Requirement already satisfied: shapely in /Users/alben/opt/anaconda3/lib/python3.7/site-packages (from geopandas==0.8.2) (1.7.0)\n",
      "Requirement already satisfied: pyproj>=2.2.0 in /Users/alben/opt/anaconda3/lib/python3.7/site-packages (from geopandas==0.8.2) (2.6.1.post1)\n",
      "Requirement already satisfied: click<8,>=4.0 in /Users/alben/opt/anaconda3/lib/python3.7/site-packages (from fiona->geopandas==0.8.2) (7.0)\n",
      "Requirement already satisfied: six>=1.7 in /Users/alben/opt/anaconda3/lib/python3.7/site-packages (from fiona->geopandas==0.8.2) (1.14.0)\n",
      "Requirement already satisfied: click-plugins>=1.0 in /Users/alben/opt/anaconda3/lib/python3.7/site-packages (from fiona->geopandas==0.8.2) (1.1.1)\n",
      "Requirement already satisfied: munch in /Users/alben/opt/anaconda3/lib/python3.7/site-packages (from fiona->geopandas==0.8.2) (2.5.0)\n",
      "Requirement already satisfied: attrs>=17 in /Users/alben/opt/anaconda3/lib/python3.7/site-packages (from fiona->geopandas==0.8.2) (19.3.0)\n",
      "Requirement already satisfied: cligj>=0.5 in /Users/alben/opt/anaconda3/lib/python3.7/site-packages (from fiona->geopandas==0.8.2) (0.5.0)\n",
      "Requirement already satisfied: python-dateutil>=2.7.3 in /Users/alben/opt/anaconda3/lib/python3.7/site-packages (from pandas>=0.23.0->geopandas==0.8.2) (2.8.1)\n",
      "Requirement already satisfied: numpy>=1.16.5 in /Users/alben/opt/anaconda3/lib/python3.7/site-packages (from pandas>=0.23.0->geopandas==0.8.2) (1.20.1)\n",
      "Requirement already satisfied: pytz>=2017.3 in /Users/alben/opt/anaconda3/lib/python3.7/site-packages (from pandas>=0.23.0->geopandas==0.8.2) (2019.3)\n",
      "Requirement already satisfied: osmnx in /Users/alben/opt/anaconda3/lib/python3.7/site-packages (1.0.1)\n",
      "Requirement already satisfied: Rtree>=0.9 in /Users/alben/opt/anaconda3/lib/python3.7/site-packages (from osmnx) (0.9.3)\n",
      "Requirement already satisfied: pandas>=1.1 in /Users/alben/opt/anaconda3/lib/python3.7/site-packages (from osmnx) (1.2.2)\n",
      "Requirement already satisfied: descartes>=1.1 in /Users/alben/opt/anaconda3/lib/python3.7/site-packages (from osmnx) (1.1.0)\n",
      "Requirement already satisfied: networkx>=2.5 in /Users/alben/opt/anaconda3/lib/python3.7/site-packages (from osmnx) (2.5)\n",
      "Requirement already satisfied: requests>=2.25 in /Users/alben/opt/anaconda3/lib/python3.7/site-packages (from osmnx) (2.25.1)\n",
      "Requirement already satisfied: pyproj>=2.6 in /Users/alben/opt/anaconda3/lib/python3.7/site-packages (from osmnx) (2.6.1.post1)\n",
      "Requirement already satisfied: matplotlib>=3.3 in /Users/alben/opt/anaconda3/lib/python3.7/site-packages (from osmnx) (3.3.4)\n",
      "Requirement already satisfied: numpy>=1.19 in /Users/alben/opt/anaconda3/lib/python3.7/site-packages (from osmnx) (1.20.1)\n",
      "Requirement already satisfied: Shapely>=1.7 in /Users/alben/opt/anaconda3/lib/python3.7/site-packages (from osmnx) (1.7.0)\n",
      "Requirement already satisfied: geopandas>=0.8 in /Users/alben/opt/anaconda3/lib/python3.7/site-packages (from osmnx) (0.8.2)\n",
      "Requirement already satisfied: setuptools in /Users/alben/opt/anaconda3/lib/python3.7/site-packages (from Rtree>=0.9->osmnx) (46.0.0.post20200309)\n",
      "Requirement already satisfied: python-dateutil>=2.7.3 in /Users/alben/opt/anaconda3/lib/python3.7/site-packages (from pandas>=1.1->osmnx) (2.8.1)\n",
      "Requirement already satisfied: pytz>=2017.3 in /Users/alben/opt/anaconda3/lib/python3.7/site-packages (from pandas>=1.1->osmnx) (2019.3)\n",
      "Requirement already satisfied: decorator>=4.3.0 in /Users/alben/opt/anaconda3/lib/python3.7/site-packages (from networkx>=2.5->osmnx) (4.4.1)\n",
      "Requirement already satisfied: chardet<5,>=3.0.2 in /Users/alben/opt/anaconda3/lib/python3.7/site-packages (from requests>=2.25->osmnx) (3.0.4)\n",
      "Requirement already satisfied: certifi>=2017.4.17 in /Users/alben/opt/anaconda3/lib/python3.7/site-packages (from requests>=2.25->osmnx) (2019.11.28)\n",
      "Requirement already satisfied: urllib3<1.27,>=1.21.1 in /Users/alben/opt/anaconda3/lib/python3.7/site-packages (from requests>=2.25->osmnx) (1.25.8)\n",
      "Requirement already satisfied: idna<3,>=2.5 in /Users/alben/opt/anaconda3/lib/python3.7/site-packages (from requests>=2.25->osmnx) (2.8)\n",
      "Requirement already satisfied: cycler>=0.10 in /Users/alben/opt/anaconda3/lib/python3.7/site-packages (from matplotlib>=3.3->osmnx) (0.10.0)\n",
      "Requirement already satisfied: pyparsing!=2.0.4,!=2.1.2,!=2.1.6,>=2.0.3 in /Users/alben/opt/anaconda3/lib/python3.7/site-packages (from matplotlib>=3.3->osmnx) (2.4.6)\n",
      "Requirement already satisfied: pillow>=6.2.0 in /Users/alben/opt/anaconda3/lib/python3.7/site-packages (from matplotlib>=3.3->osmnx) (7.0.0)\n",
      "Requirement already satisfied: kiwisolver>=1.0.1 in /Users/alben/opt/anaconda3/lib/python3.7/site-packages (from matplotlib>=3.3->osmnx) (1.1.0)\n",
      "Requirement already satisfied: fiona in /Users/alben/opt/anaconda3/lib/python3.7/site-packages (from geopandas>=0.8->osmnx) (1.8.13.post1)\n",
      "Requirement already satisfied: six>=1.5 in /Users/alben/opt/anaconda3/lib/python3.7/site-packages (from python-dateutil>=2.7.3->pandas>=1.1->osmnx) (1.14.0)\n",
      "Requirement already satisfied: click<8,>=4.0 in /Users/alben/opt/anaconda3/lib/python3.7/site-packages (from fiona->geopandas>=0.8->osmnx) (7.0)\n",
      "Requirement already satisfied: attrs>=17 in /Users/alben/opt/anaconda3/lib/python3.7/site-packages (from fiona->geopandas>=0.8->osmnx) (19.3.0)\n",
      "Requirement already satisfied: munch in /Users/alben/opt/anaconda3/lib/python3.7/site-packages (from fiona->geopandas>=0.8->osmnx) (2.5.0)\n",
      "Requirement already satisfied: click-plugins>=1.0 in /Users/alben/opt/anaconda3/lib/python3.7/site-packages (from fiona->geopandas>=0.8->osmnx) (1.1.1)\n",
      "Requirement already satisfied: cligj>=0.5 in /Users/alben/opt/anaconda3/lib/python3.7/site-packages (from fiona->geopandas>=0.8->osmnx) (0.5.0)\n"
     ]
    }
   ],
   "source": [
    "!pip install geopandas==0.8.2\n",
    "!pip install osmnx"
   ]
  },
  {
   "cell_type": "markdown",
   "metadata": {},
   "source": [
    "# Plot street neworks and routes as interactive leaflet web maps\n",
    "\n",
    "Author: [Geoff Boeing](https://geoffboeing.com/)\n",
    "\n",
    "Use OSMnx to download a street network, calculate a route between two points, and create a Leaflet web map with folium.\n",
    "\n",
    "  - [Overview of OSMnx](http://geoffboeing.com/2016/11/osmnx-python-street-networks/)\n",
    "  - [GitHub repo](https://github.com/gboeing/osmnx)\n",
    "  - [Examples, demos, tutorials](https://github.com/gboeing/osmnx-examples)\n",
    "  - [Documentation](https://osmnx.readthedocs.io/en/stable/)\n",
    "  - [Journal article/citation](http://geoffboeing.com/publications/osmnx-complex-street-networks/)"
   ]
  },
  {
   "cell_type": "code",
   "execution_count": 2,
   "metadata": {},
   "outputs": [
    {
     "data": {
      "text/plain": [
       "'1.0.1'"
      ]
     },
     "execution_count": 2,
     "metadata": {},
     "output_type": "execute_result"
    }
   ],
   "source": [
    "import networkx as nx\n",
    "import osmnx as ox\n",
    "from IPython.display import IFrame\n",
    "%matplotlib inline\n",
    "ox.config(log_console=True)\n",
    "ox.__version__"
   ]
  },
  {
   "cell_type": "code",
   "execution_count": 3,
   "metadata": {},
   "outputs": [],
   "source": [
    "# download the street network for Piedmont, CA\n",
    "G = ox.graph_from_place('Piedmont, California, USA', network_type='drive')"
   ]
  },
  {
   "cell_type": "markdown",
   "metadata": {},
   "source": [
    "## Plot a city's street network as an interactive web map\n",
    "\n",
    "You can pass keyword args along to [folium](https://python-visualization.github.io/folium/modules.html#folium.vector_layers.PolyLine) PolyLine to style the lines."
   ]
  },
  {
   "cell_type": "code",
   "execution_count": 4,
   "metadata": {},
   "outputs": [],
   "source": [
    "# plot the street network with folium\n",
    "m1 = ox.plot_graph_folium(G, popup_attribute='name', weight=2, color='#8b0000')"
   ]
  },
  {
   "cell_type": "code",
   "execution_count": 5,
   "metadata": {},
   "outputs": [
    {
     "data": {
      "text/html": [
       "\n",
       "        <iframe\n",
       "            width=\"600\"\n",
       "            height=\"500\"\n",
       "            src=\"graph.html\"\n",
       "            frameborder=\"0\"\n",
       "            allowfullscreen\n",
       "        ></iframe>\n",
       "        "
      ],
      "text/plain": [
       "<IPython.lib.display.IFrame at 0x7f837fa6a7d0>"
      ]
     },
     "execution_count": 5,
     "metadata": {},
     "output_type": "execute_result"
    }
   ],
   "source": [
    "# save as html file then display map as an iframe\n",
    "filepath = 'graph.html'\n",
    "m1.save(filepath)\n",
    "IFrame(filepath, width=600, height=500)"
   ]
  },
  {
   "cell_type": "markdown",
   "metadata": {},
   "source": [
    "You can zoom into the street network above or click any edge to get more info."
   ]
  },
  {
   "cell_type": "markdown",
   "metadata": {},
   "source": [
    "## Plot a route as an interactive web map"
   ]
  },
  {
   "cell_type": "code",
   "execution_count": 6,
   "metadata": {},
   "outputs": [],
   "source": [
    "# use networkx to calculate the shortest path between two nodes\n",
    "origin_node = list(G.nodes())[0]\n",
    "destination_node = list(G.nodes())[-1]\n",
    "route = nx.shortest_path(G, origin_node, destination_node)"
   ]
  },
  {
   "cell_type": "code",
   "execution_count": 7,
   "metadata": {},
   "outputs": [],
   "source": [
    "# plot the route with folium\n",
    "# like above, you can pass keyword args along to folium PolyLine to style the lines\n",
    "m2 = ox.plot_route_folium(G, route, weight=10)"
   ]
  },
  {
   "cell_type": "code",
   "execution_count": 8,
   "metadata": {},
   "outputs": [
    {
     "data": {
      "text/html": [
       "\n",
       "        <iframe\n",
       "            width=\"600\"\n",
       "            height=\"500\"\n",
       "            src=\"route.html\"\n",
       "            frameborder=\"0\"\n",
       "            allowfullscreen\n",
       "        ></iframe>\n",
       "        "
      ],
      "text/plain": [
       "<IPython.lib.display.IFrame at 0x7f837fac91d0>"
      ]
     },
     "execution_count": 8,
     "metadata": {},
     "output_type": "execute_result"
    }
   ],
   "source": [
    "# save as html file then display map as an iframe\n",
    "filepath = 'route.html'\n",
    "m2.save(filepath)\n",
    "IFrame(filepath, width=600, height=500)"
   ]
  },
  {
   "cell_type": "markdown",
   "metadata": {},
   "source": [
    "## Or plot a route on top of the complete street network map"
   ]
  },
  {
   "cell_type": "code",
   "execution_count": 9,
   "metadata": {},
   "outputs": [],
   "source": [
    "# plot the route with folium on top of the previously created graph_map\n",
    "m3 = ox.plot_route_folium(G, route, route_map=m1, popup_attribute='length', weight=7)"
   ]
  },
  {
   "cell_type": "code",
   "execution_count": 10,
   "metadata": {},
   "outputs": [
    {
     "data": {
      "text/html": [
       "\n",
       "        <iframe\n",
       "            width=\"600\"\n",
       "            height=\"500\"\n",
       "            src=\"route_graph.html\"\n",
       "            frameborder=\"0\"\n",
       "            allowfullscreen\n",
       "        ></iframe>\n",
       "        "
      ],
      "text/plain": [
       "<IPython.lib.display.IFrame at 0x7f837fe28f90>"
      ]
     },
     "execution_count": 10,
     "metadata": {},
     "output_type": "execute_result"
    }
   ],
   "source": [
    "# save as html file then display map as an iframe\n",
    "filepath = 'route_graph.html'\n",
    "m3.save(filepath)\n",
    "IFrame(filepath, width=600, height=500)"
   ]
  },
  {
   "cell_type": "code",
   "execution_count": null,
   "metadata": {},
   "outputs": [],
   "source": []
  }
 ],
 "metadata": {
  "anaconda-cloud": {},
  "kernelspec": {
   "display_name": "Python 3",
   "language": "python",
   "name": "python3"
  },
  "language_info": {
   "codemirror_mode": {
    "name": "ipython",
    "version": 3
   },
   "file_extension": ".py",
   "mimetype": "text/x-python",
   "name": "python",
   "nbconvert_exporter": "python",
   "pygments_lexer": "ipython3",
   "version": "3.7.6"
  }
 },
 "nbformat": 4,
 "nbformat_minor": 4
}
