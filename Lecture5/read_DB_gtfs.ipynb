{
 "cells": [
  {
   "cell_type": "markdown",
   "metadata": {},
   "source": [
    "# In this exercise, we will generate a network from GTFS data"
   ]
  },
  {
   "cell_type": "code",
   "execution_count": 1,
   "metadata": {},
   "outputs": [],
   "source": [
    "import pandas as pd\n",
    "import networkx as nx\n",
    "import matplotlib.pyplot as plt"
   ]
  },
  {
   "cell_type": "code",
   "execution_count": 2,
   "metadata": {},
   "outputs": [],
   "source": [
    "# Read relevant files as pandas dataframe\n",
    "path = r'../TransitNet_GTFS/db_gtfs' #change here to read the Deutsche Bahn network(German Rail)\n",
    "routes = pd.read_csv(path+'/routes.txt')\n",
    "stops = pd.read_csv(path+'/stops.txt')\n",
    "stop_times = pd.read_csv(path+'/stop_times.txt')\n",
    "trips = pd.read_csv(path+'/trips.txt')"
   ]
  },
  {
   "cell_type": "code",
   "execution_count": 3,
   "metadata": {},
   "outputs": [],
   "source": [
    "# Read relevant files as pandas dataframe\n",
    "\n",
    "#/Users/alben/Desktop/CE 88/Lecture 5/TransitNet_GTFS/gtfs/routes.txt\n",
    "\n",
    "path = r'TransitNet_GTFS/gtfs' #change here to add your path\n",
    "routes = pd.read_csv(path+'/routes.txt')\n",
    "stops = pd.read_csv(path+'/stops.txt')\n",
    "stop_times = pd.read_csv(path+'/stop_times.txt')\n",
    "trips = pd.read_csv(path+'/trips.txt')"
   ]
  },
  {
   "cell_type": "code",
   "execution_count": 4,
   "metadata": {},
   "outputs": [
    {
     "data": {
      "text/html": [
       "<div>\n",
       "<style scoped>\n",
       "    .dataframe tbody tr th:only-of-type {\n",
       "        vertical-align: middle;\n",
       "    }\n",
       "\n",
       "    .dataframe tbody tr th {\n",
       "        vertical-align: top;\n",
       "    }\n",
       "\n",
       "    .dataframe thead th {\n",
       "        text-align: right;\n",
       "    }\n",
       "</style>\n",
       "<table border=\"1\" class=\"dataframe\">\n",
       "  <thead>\n",
       "    <tr style=\"text-align: right;\">\n",
       "      <th></th>\n",
       "      <th>stop_id</th>\n",
       "      <th>stop_name</th>\n",
       "      <th>stop_desc</th>\n",
       "      <th>stop_lat</th>\n",
       "      <th>stop_lon</th>\n",
       "      <th>zone_id</th>\n",
       "      <th>stop_url</th>\n",
       "      <th>location_type</th>\n",
       "      <th>parent_station</th>\n",
       "      <th>stop_timezone</th>\n",
       "      <th>wheelchair_boarding</th>\n",
       "    </tr>\n",
       "  </thead>\n",
       "  <tbody>\n",
       "    <tr>\n",
       "      <th>0</th>\n",
       "      <td>12TH</td>\n",
       "      <td>12th St. Oakland City Center</td>\n",
       "      <td>NaN</td>\n",
       "      <td>37.803768</td>\n",
       "      <td>-122.271450</td>\n",
       "      <td>12TH</td>\n",
       "      <td>http://www.bart.gov/stations/12TH/</td>\n",
       "      <td>0</td>\n",
       "      <td>NaN</td>\n",
       "      <td>NaN</td>\n",
       "      <td>1</td>\n",
       "    </tr>\n",
       "    <tr>\n",
       "      <th>1</th>\n",
       "      <td>16TH</td>\n",
       "      <td>16th St. Mission</td>\n",
       "      <td>NaN</td>\n",
       "      <td>37.765062</td>\n",
       "      <td>-122.419694</td>\n",
       "      <td>16TH</td>\n",
       "      <td>http://www.bart.gov/stations/16TH/</td>\n",
       "      <td>0</td>\n",
       "      <td>NaN</td>\n",
       "      <td>NaN</td>\n",
       "      <td>1</td>\n",
       "    </tr>\n",
       "    <tr>\n",
       "      <th>2</th>\n",
       "      <td>19TH</td>\n",
       "      <td>19th St. Oakland</td>\n",
       "      <td>NaN</td>\n",
       "      <td>37.808350</td>\n",
       "      <td>-122.268602</td>\n",
       "      <td>19TH</td>\n",
       "      <td>http://www.bart.gov/stations/19TH/</td>\n",
       "      <td>0</td>\n",
       "      <td>NaN</td>\n",
       "      <td>NaN</td>\n",
       "      <td>1</td>\n",
       "    </tr>\n",
       "    <tr>\n",
       "      <th>3</th>\n",
       "      <td>24TH</td>\n",
       "      <td>24th St. Mission</td>\n",
       "      <td>NaN</td>\n",
       "      <td>37.752470</td>\n",
       "      <td>-122.418143</td>\n",
       "      <td>24TH</td>\n",
       "      <td>http://www.bart.gov/stations/24TH/</td>\n",
       "      <td>0</td>\n",
       "      <td>NaN</td>\n",
       "      <td>NaN</td>\n",
       "      <td>1</td>\n",
       "    </tr>\n",
       "    <tr>\n",
       "      <th>4</th>\n",
       "      <td>ANTC</td>\n",
       "      <td>Antioch</td>\n",
       "      <td>NaN</td>\n",
       "      <td>37.995388</td>\n",
       "      <td>-121.780420</td>\n",
       "      <td>ANTC</td>\n",
       "      <td>http://www.bart.gov/stations/ANTC/</td>\n",
       "      <td>0</td>\n",
       "      <td>NaN</td>\n",
       "      <td>NaN</td>\n",
       "      <td>1</td>\n",
       "    </tr>\n",
       "  </tbody>\n",
       "</table>\n",
       "</div>"
      ],
      "text/plain": [
       "  stop_id                     stop_name  stop_desc   stop_lat    stop_lon  \\\n",
       "0    12TH  12th St. Oakland City Center        NaN  37.803768 -122.271450   \n",
       "1    16TH              16th St. Mission        NaN  37.765062 -122.419694   \n",
       "2    19TH              19th St. Oakland        NaN  37.808350 -122.268602   \n",
       "3    24TH              24th St. Mission        NaN  37.752470 -122.418143   \n",
       "4    ANTC                       Antioch        NaN  37.995388 -121.780420   \n",
       "\n",
       "  zone_id                            stop_url  location_type  parent_station  \\\n",
       "0    12TH  http://www.bart.gov/stations/12TH/              0             NaN   \n",
       "1    16TH  http://www.bart.gov/stations/16TH/              0             NaN   \n",
       "2    19TH  http://www.bart.gov/stations/19TH/              0             NaN   \n",
       "3    24TH  http://www.bart.gov/stations/24TH/              0             NaN   \n",
       "4    ANTC  http://www.bart.gov/stations/ANTC/              0             NaN   \n",
       "\n",
       "   stop_timezone  wheelchair_boarding  \n",
       "0            NaN                    1  \n",
       "1            NaN                    1  \n",
       "2            NaN                    1  \n",
       "3            NaN                    1  \n",
       "4            NaN                    1  "
      ]
     },
     "execution_count": 4,
     "metadata": {},
     "output_type": "execute_result"
    }
   ],
   "source": [
    "# What is in the stops file?\n",
    "stops.head()"
   ]
  },
  {
   "cell_type": "code",
   "execution_count": 5,
   "metadata": {},
   "outputs": [
    {
     "data": {
      "text/html": [
       "<div>\n",
       "<style scoped>\n",
       "    .dataframe tbody tr th:only-of-type {\n",
       "        vertical-align: middle;\n",
       "    }\n",
       "\n",
       "    .dataframe tbody tr th {\n",
       "        vertical-align: top;\n",
       "    }\n",
       "\n",
       "    .dataframe thead th {\n",
       "        text-align: right;\n",
       "    }\n",
       "</style>\n",
       "<table border=\"1\" class=\"dataframe\">\n",
       "  <thead>\n",
       "    <tr style=\"text-align: right;\">\n",
       "      <th></th>\n",
       "      <th>route_id</th>\n",
       "      <th>agency_id</th>\n",
       "      <th>route_short_name</th>\n",
       "      <th>route_long_name</th>\n",
       "      <th>route_desc</th>\n",
       "      <th>route_type</th>\n",
       "      <th>route_url</th>\n",
       "      <th>route_color</th>\n",
       "      <th>route_text_color</th>\n",
       "    </tr>\n",
       "  </thead>\n",
       "  <tbody>\n",
       "    <tr>\n",
       "      <th>0</th>\n",
       "      <td>1</td>\n",
       "      <td>BART</td>\n",
       "      <td>Yellow</td>\n",
       "      <td>Antioch - SFO/Millbrae</td>\n",
       "      <td>NaN</td>\n",
       "      <td>1</td>\n",
       "      <td>http://www.bart.gov/schedules/bylineresults?ro...</td>\n",
       "      <td>ffff33</td>\n",
       "      <td>NaN</td>\n",
       "    </tr>\n",
       "    <tr>\n",
       "      <th>1</th>\n",
       "      <td>3</td>\n",
       "      <td>BART</td>\n",
       "      <td>Orange</td>\n",
       "      <td>Warm Springs/South Fremont - Richmond</td>\n",
       "      <td>NaN</td>\n",
       "      <td>1</td>\n",
       "      <td>http://www.bart.gov/schedules/</td>\n",
       "      <td>ff9933</td>\n",
       "      <td>NaN</td>\n",
       "    </tr>\n",
       "    <tr>\n",
       "      <th>2</th>\n",
       "      <td>5</td>\n",
       "      <td>BART</td>\n",
       "      <td>Green</td>\n",
       "      <td>Warm Springs/South Fremont - Daly City</td>\n",
       "      <td>NaN</td>\n",
       "      <td>1</td>\n",
       "      <td>http://www.bart.gov/schedules/</td>\n",
       "      <td>339933</td>\n",
       "      <td>NaN</td>\n",
       "    </tr>\n",
       "    <tr>\n",
       "      <th>3</th>\n",
       "      <td>7</td>\n",
       "      <td>BART</td>\n",
       "      <td>Red</td>\n",
       "      <td>Richmond - Daly City/Millbrae</td>\n",
       "      <td>NaN</td>\n",
       "      <td>1</td>\n",
       "      <td>http://www.bart.gov/schedules/</td>\n",
       "      <td>ff0000</td>\n",
       "      <td>NaN</td>\n",
       "    </tr>\n",
       "    <tr>\n",
       "      <th>4</th>\n",
       "      <td>9</td>\n",
       "      <td>BART</td>\n",
       "      <td>Blue-Sun</td>\n",
       "      <td>Dublin/Pleasanton - MacArthur</td>\n",
       "      <td>NaN</td>\n",
       "      <td>1</td>\n",
       "      <td>http://www.bart.gov/schedules/</td>\n",
       "      <td>0099cc</td>\n",
       "      <td>NaN</td>\n",
       "    </tr>\n",
       "  </tbody>\n",
       "</table>\n",
       "</div>"
      ],
      "text/plain": [
       "   route_id agency_id route_short_name  \\\n",
       "0         1      BART           Yellow   \n",
       "1         3      BART           Orange   \n",
       "2         5      BART            Green   \n",
       "3         7      BART              Red   \n",
       "4         9      BART         Blue-Sun   \n",
       "\n",
       "                          route_long_name  route_desc  route_type  \\\n",
       "0                  Antioch - SFO/Millbrae         NaN           1   \n",
       "1   Warm Springs/South Fremont - Richmond         NaN           1   \n",
       "2  Warm Springs/South Fremont - Daly City         NaN           1   \n",
       "3           Richmond - Daly City/Millbrae         NaN           1   \n",
       "4           Dublin/Pleasanton - MacArthur         NaN           1   \n",
       "\n",
       "                                           route_url route_color  \\\n",
       "0  http://www.bart.gov/schedules/bylineresults?ro...      ffff33   \n",
       "1                     http://www.bart.gov/schedules/      ff9933   \n",
       "2                     http://www.bart.gov/schedules/      339933   \n",
       "3                     http://www.bart.gov/schedules/      ff0000   \n",
       "4                     http://www.bart.gov/schedules/      0099cc   \n",
       "\n",
       "   route_text_color  \n",
       "0               NaN  \n",
       "1               NaN  \n",
       "2               NaN  \n",
       "3               NaN  \n",
       "4               NaN  "
      ]
     },
     "execution_count": 5,
     "metadata": {},
     "output_type": "execute_result"
    }
   ],
   "source": [
    "# What is in the routes file?\n",
    "routes.head()"
   ]
  },
  {
   "cell_type": "code",
   "execution_count": 6,
   "metadata": {},
   "outputs": [
    {
     "data": {
      "text/html": [
       "<div>\n",
       "<style scoped>\n",
       "    .dataframe tbody tr th:only-of-type {\n",
       "        vertical-align: middle;\n",
       "    }\n",
       "\n",
       "    .dataframe tbody tr th {\n",
       "        vertical-align: top;\n",
       "    }\n",
       "\n",
       "    .dataframe thead th {\n",
       "        text-align: right;\n",
       "    }\n",
       "</style>\n",
       "<table border=\"1\" class=\"dataframe\">\n",
       "  <thead>\n",
       "    <tr style=\"text-align: right;\">\n",
       "      <th></th>\n",
       "      <th>route_id</th>\n",
       "      <th>service_id</th>\n",
       "      <th>trip_id</th>\n",
       "      <th>trip_headsign</th>\n",
       "      <th>direction_id</th>\n",
       "      <th>block_id</th>\n",
       "      <th>shape_id</th>\n",
       "      <th>wheelchair_accessible</th>\n",
       "      <th>bikes_allowed</th>\n",
       "    </tr>\n",
       "  </thead>\n",
       "  <tbody>\n",
       "    <tr>\n",
       "      <th>0</th>\n",
       "      <td>1</td>\n",
       "      <td>WKDY</td>\n",
       "      <td>3610458WKDY</td>\n",
       "      <td>San Francisco International Airport</td>\n",
       "      <td>0</td>\n",
       "      <td>NaN</td>\n",
       "      <td>01_shp</td>\n",
       "      <td>1</td>\n",
       "      <td>1</td>\n",
       "    </tr>\n",
       "    <tr>\n",
       "      <th>1</th>\n",
       "      <td>1</td>\n",
       "      <td>SAT</td>\n",
       "      <td>3730600SAT</td>\n",
       "      <td>Millbrae</td>\n",
       "      <td>0</td>\n",
       "      <td>NaN</td>\n",
       "      <td>01_shp</td>\n",
       "      <td>1</td>\n",
       "      <td>1</td>\n",
       "    </tr>\n",
       "    <tr>\n",
       "      <th>2</th>\n",
       "      <td>1</td>\n",
       "      <td>SUN</td>\n",
       "      <td>3610758SUN</td>\n",
       "      <td>San Francisco International Airport</td>\n",
       "      <td>0</td>\n",
       "      <td>NaN</td>\n",
       "      <td>01_shp</td>\n",
       "      <td>1</td>\n",
       "      <td>1</td>\n",
       "    </tr>\n",
       "    <tr>\n",
       "      <th>3</th>\n",
       "      <td>1</td>\n",
       "      <td>WKDY</td>\n",
       "      <td>3630503WKDY</td>\n",
       "      <td>San Francisco International Airport</td>\n",
       "      <td>0</td>\n",
       "      <td>NaN</td>\n",
       "      <td>01_shp</td>\n",
       "      <td>1</td>\n",
       "      <td>1</td>\n",
       "    </tr>\n",
       "    <tr>\n",
       "      <th>4</th>\n",
       "      <td>1</td>\n",
       "      <td>SAT</td>\n",
       "      <td>3750558SAT</td>\n",
       "      <td>Millbrae</td>\n",
       "      <td>0</td>\n",
       "      <td>NaN</td>\n",
       "      <td>01_shp</td>\n",
       "      <td>1</td>\n",
       "      <td>1</td>\n",
       "    </tr>\n",
       "  </tbody>\n",
       "</table>\n",
       "</div>"
      ],
      "text/plain": [
       "   route_id service_id      trip_id                        trip_headsign  \\\n",
       "0         1       WKDY  3610458WKDY  San Francisco International Airport   \n",
       "1         1        SAT   3730600SAT                             Millbrae   \n",
       "2         1        SUN   3610758SUN  San Francisco International Airport   \n",
       "3         1       WKDY  3630503WKDY  San Francisco International Airport   \n",
       "4         1        SAT   3750558SAT                             Millbrae   \n",
       "\n",
       "   direction_id  block_id shape_id  wheelchair_accessible  bikes_allowed  \n",
       "0             0       NaN   01_shp                      1              1  \n",
       "1             0       NaN   01_shp                      1              1  \n",
       "2             0       NaN   01_shp                      1              1  \n",
       "3             0       NaN   01_shp                      1              1  \n",
       "4             0       NaN   01_shp                      1              1  "
      ]
     },
     "execution_count": 6,
     "metadata": {},
     "output_type": "execute_result"
    }
   ],
   "source": [
    "# What is in the trips file?\n",
    "trips.head()"
   ]
  },
  {
   "cell_type": "code",
   "execution_count": 7,
   "metadata": {},
   "outputs": [
    {
     "data": {
      "text/html": [
       "<div>\n",
       "<style scoped>\n",
       "    .dataframe tbody tr th:only-of-type {\n",
       "        vertical-align: middle;\n",
       "    }\n",
       "\n",
       "    .dataframe tbody tr th {\n",
       "        vertical-align: top;\n",
       "    }\n",
       "\n",
       "    .dataframe thead th {\n",
       "        text-align: right;\n",
       "    }\n",
       "</style>\n",
       "<table border=\"1\" class=\"dataframe\">\n",
       "  <thead>\n",
       "    <tr style=\"text-align: right;\">\n",
       "      <th></th>\n",
       "      <th>trip_id</th>\n",
       "      <th>arrival_time</th>\n",
       "      <th>departure_time</th>\n",
       "      <th>stop_id</th>\n",
       "      <th>stop_sequence</th>\n",
       "      <th>stop_headsign</th>\n",
       "      <th>pickup_type</th>\n",
       "      <th>drop_off_type</th>\n",
       "      <th>shape_dist_traveled</th>\n",
       "      <th>timepoint</th>\n",
       "    </tr>\n",
       "  </thead>\n",
       "  <tbody>\n",
       "    <tr>\n",
       "      <th>0</th>\n",
       "      <td>3610758SUN</td>\n",
       "      <td>07:58:00</td>\n",
       "      <td>07:58:00</td>\n",
       "      <td>LAFY</td>\n",
       "      <td>1</td>\n",
       "      <td>San Francisco International Airport</td>\n",
       "      <td>NaN</td>\n",
       "      <td>NaN</td>\n",
       "      <td>NaN</td>\n",
       "      <td>1</td>\n",
       "    </tr>\n",
       "    <tr>\n",
       "      <th>1</th>\n",
       "      <td>3610758SUN</td>\n",
       "      <td>08:03:00</td>\n",
       "      <td>08:03:00</td>\n",
       "      <td>ORIN</td>\n",
       "      <td>2</td>\n",
       "      <td>San Francisco International Airport</td>\n",
       "      <td>NaN</td>\n",
       "      <td>NaN</td>\n",
       "      <td>NaN</td>\n",
       "      <td>1</td>\n",
       "    </tr>\n",
       "    <tr>\n",
       "      <th>2</th>\n",
       "      <td>3610758SUN</td>\n",
       "      <td>08:09:00</td>\n",
       "      <td>08:09:00</td>\n",
       "      <td>ROCK</td>\n",
       "      <td>3</td>\n",
       "      <td>San Francisco International Airport</td>\n",
       "      <td>NaN</td>\n",
       "      <td>NaN</td>\n",
       "      <td>NaN</td>\n",
       "      <td>1</td>\n",
       "    </tr>\n",
       "    <tr>\n",
       "      <th>3</th>\n",
       "      <td>3610758SUN</td>\n",
       "      <td>08:13:00</td>\n",
       "      <td>08:13:00</td>\n",
       "      <td>MCAR</td>\n",
       "      <td>4</td>\n",
       "      <td>San Francisco International Airport</td>\n",
       "      <td>NaN</td>\n",
       "      <td>NaN</td>\n",
       "      <td>NaN</td>\n",
       "      <td>1</td>\n",
       "    </tr>\n",
       "    <tr>\n",
       "      <th>4</th>\n",
       "      <td>3610758SUN</td>\n",
       "      <td>08:16:00</td>\n",
       "      <td>08:16:00</td>\n",
       "      <td>19TH</td>\n",
       "      <td>5</td>\n",
       "      <td>San Francisco International Airport</td>\n",
       "      <td>NaN</td>\n",
       "      <td>NaN</td>\n",
       "      <td>NaN</td>\n",
       "      <td>1</td>\n",
       "    </tr>\n",
       "    <tr>\n",
       "      <th>5</th>\n",
       "      <td>3610758SUN</td>\n",
       "      <td>08:18:00</td>\n",
       "      <td>08:18:00</td>\n",
       "      <td>12TH</td>\n",
       "      <td>6</td>\n",
       "      <td>San Francisco International Airport</td>\n",
       "      <td>NaN</td>\n",
       "      <td>NaN</td>\n",
       "      <td>NaN</td>\n",
       "      <td>1</td>\n",
       "    </tr>\n",
       "    <tr>\n",
       "      <th>6</th>\n",
       "      <td>3610758SUN</td>\n",
       "      <td>08:23:00</td>\n",
       "      <td>08:23:00</td>\n",
       "      <td>WOAK</td>\n",
       "      <td>7</td>\n",
       "      <td>San Francisco International Airport</td>\n",
       "      <td>NaN</td>\n",
       "      <td>NaN</td>\n",
       "      <td>NaN</td>\n",
       "      <td>1</td>\n",
       "    </tr>\n",
       "    <tr>\n",
       "      <th>7</th>\n",
       "      <td>3610758SUN</td>\n",
       "      <td>08:29:00</td>\n",
       "      <td>08:29:00</td>\n",
       "      <td>EMBR</td>\n",
       "      <td>8</td>\n",
       "      <td>San Francisco International Airport</td>\n",
       "      <td>NaN</td>\n",
       "      <td>NaN</td>\n",
       "      <td>NaN</td>\n",
       "      <td>1</td>\n",
       "    </tr>\n",
       "    <tr>\n",
       "      <th>8</th>\n",
       "      <td>3610758SUN</td>\n",
       "      <td>08:31:00</td>\n",
       "      <td>08:31:00</td>\n",
       "      <td>MONT</td>\n",
       "      <td>9</td>\n",
       "      <td>San Francisco International Airport</td>\n",
       "      <td>NaN</td>\n",
       "      <td>NaN</td>\n",
       "      <td>NaN</td>\n",
       "      <td>1</td>\n",
       "    </tr>\n",
       "    <tr>\n",
       "      <th>9</th>\n",
       "      <td>3610758SUN</td>\n",
       "      <td>08:33:00</td>\n",
       "      <td>08:33:00</td>\n",
       "      <td>POWL</td>\n",
       "      <td>10</td>\n",
       "      <td>San Francisco International Airport</td>\n",
       "      <td>NaN</td>\n",
       "      <td>NaN</td>\n",
       "      <td>NaN</td>\n",
       "      <td>1</td>\n",
       "    </tr>\n",
       "    <tr>\n",
       "      <th>10</th>\n",
       "      <td>3610758SUN</td>\n",
       "      <td>08:34:00</td>\n",
       "      <td>08:34:00</td>\n",
       "      <td>CIVC</td>\n",
       "      <td>11</td>\n",
       "      <td>San Francisco International Airport</td>\n",
       "      <td>NaN</td>\n",
       "      <td>NaN</td>\n",
       "      <td>NaN</td>\n",
       "      <td>1</td>\n",
       "    </tr>\n",
       "    <tr>\n",
       "      <th>11</th>\n",
       "      <td>3610758SUN</td>\n",
       "      <td>08:37:00</td>\n",
       "      <td>08:37:00</td>\n",
       "      <td>16TH</td>\n",
       "      <td>12</td>\n",
       "      <td>San Francisco International Airport</td>\n",
       "      <td>NaN</td>\n",
       "      <td>NaN</td>\n",
       "      <td>NaN</td>\n",
       "      <td>1</td>\n",
       "    </tr>\n",
       "    <tr>\n",
       "      <th>12</th>\n",
       "      <td>3610758SUN</td>\n",
       "      <td>08:39:00</td>\n",
       "      <td>08:39:00</td>\n",
       "      <td>24TH</td>\n",
       "      <td>13</td>\n",
       "      <td>San Francisco International Airport</td>\n",
       "      <td>NaN</td>\n",
       "      <td>NaN</td>\n",
       "      <td>NaN</td>\n",
       "      <td>1</td>\n",
       "    </tr>\n",
       "    <tr>\n",
       "      <th>13</th>\n",
       "      <td>3610758SUN</td>\n",
       "      <td>08:41:00</td>\n",
       "      <td>08:41:00</td>\n",
       "      <td>GLEN</td>\n",
       "      <td>14</td>\n",
       "      <td>San Francisco International Airport</td>\n",
       "      <td>NaN</td>\n",
       "      <td>NaN</td>\n",
       "      <td>NaN</td>\n",
       "      <td>1</td>\n",
       "    </tr>\n",
       "    <tr>\n",
       "      <th>14</th>\n",
       "      <td>3610758SUN</td>\n",
       "      <td>08:44:00</td>\n",
       "      <td>08:44:00</td>\n",
       "      <td>BALB</td>\n",
       "      <td>15</td>\n",
       "      <td>San Francisco International Airport</td>\n",
       "      <td>NaN</td>\n",
       "      <td>NaN</td>\n",
       "      <td>NaN</td>\n",
       "      <td>1</td>\n",
       "    </tr>\n",
       "    <tr>\n",
       "      <th>15</th>\n",
       "      <td>3610758SUN</td>\n",
       "      <td>08:48:00</td>\n",
       "      <td>08:48:00</td>\n",
       "      <td>DALY</td>\n",
       "      <td>16</td>\n",
       "      <td>San Francisco International Airport</td>\n",
       "      <td>NaN</td>\n",
       "      <td>NaN</td>\n",
       "      <td>NaN</td>\n",
       "      <td>1</td>\n",
       "    </tr>\n",
       "    <tr>\n",
       "      <th>16</th>\n",
       "      <td>3610758SUN</td>\n",
       "      <td>08:52:00</td>\n",
       "      <td>08:52:00</td>\n",
       "      <td>COLM</td>\n",
       "      <td>17</td>\n",
       "      <td>San Francisco International Airport</td>\n",
       "      <td>NaN</td>\n",
       "      <td>NaN</td>\n",
       "      <td>NaN</td>\n",
       "      <td>1</td>\n",
       "    </tr>\n",
       "    <tr>\n",
       "      <th>17</th>\n",
       "      <td>3610758SUN</td>\n",
       "      <td>08:55:00</td>\n",
       "      <td>08:55:00</td>\n",
       "      <td>SSAN</td>\n",
       "      <td>18</td>\n",
       "      <td>San Francisco International Airport</td>\n",
       "      <td>NaN</td>\n",
       "      <td>NaN</td>\n",
       "      <td>NaN</td>\n",
       "      <td>1</td>\n",
       "    </tr>\n",
       "    <tr>\n",
       "      <th>18</th>\n",
       "      <td>3610758SUN</td>\n",
       "      <td>08:58:00</td>\n",
       "      <td>08:58:00</td>\n",
       "      <td>SBRN</td>\n",
       "      <td>19</td>\n",
       "      <td>San Francisco International Airport</td>\n",
       "      <td>NaN</td>\n",
       "      <td>NaN</td>\n",
       "      <td>NaN</td>\n",
       "      <td>1</td>\n",
       "    </tr>\n",
       "    <tr>\n",
       "      <th>19</th>\n",
       "      <td>3610758SUN</td>\n",
       "      <td>09:02:00</td>\n",
       "      <td>09:02:00</td>\n",
       "      <td>SFIA</td>\n",
       "      <td>20</td>\n",
       "      <td>San Francisco International Airport</td>\n",
       "      <td>NaN</td>\n",
       "      <td>NaN</td>\n",
       "      <td>NaN</td>\n",
       "      <td>1</td>\n",
       "    </tr>\n",
       "  </tbody>\n",
       "</table>\n",
       "</div>"
      ],
      "text/plain": [
       "       trip_id arrival_time departure_time stop_id  stop_sequence  \\\n",
       "0   3610758SUN     07:58:00       07:58:00    LAFY              1   \n",
       "1   3610758SUN     08:03:00       08:03:00    ORIN              2   \n",
       "2   3610758SUN     08:09:00       08:09:00    ROCK              3   \n",
       "3   3610758SUN     08:13:00       08:13:00    MCAR              4   \n",
       "4   3610758SUN     08:16:00       08:16:00    19TH              5   \n",
       "5   3610758SUN     08:18:00       08:18:00    12TH              6   \n",
       "6   3610758SUN     08:23:00       08:23:00    WOAK              7   \n",
       "7   3610758SUN     08:29:00       08:29:00    EMBR              8   \n",
       "8   3610758SUN     08:31:00       08:31:00    MONT              9   \n",
       "9   3610758SUN     08:33:00       08:33:00    POWL             10   \n",
       "10  3610758SUN     08:34:00       08:34:00    CIVC             11   \n",
       "11  3610758SUN     08:37:00       08:37:00    16TH             12   \n",
       "12  3610758SUN     08:39:00       08:39:00    24TH             13   \n",
       "13  3610758SUN     08:41:00       08:41:00    GLEN             14   \n",
       "14  3610758SUN     08:44:00       08:44:00    BALB             15   \n",
       "15  3610758SUN     08:48:00       08:48:00    DALY             16   \n",
       "16  3610758SUN     08:52:00       08:52:00    COLM             17   \n",
       "17  3610758SUN     08:55:00       08:55:00    SSAN             18   \n",
       "18  3610758SUN     08:58:00       08:58:00    SBRN             19   \n",
       "19  3610758SUN     09:02:00       09:02:00    SFIA             20   \n",
       "\n",
       "                          stop_headsign  pickup_type  drop_off_type  \\\n",
       "0   San Francisco International Airport          NaN            NaN   \n",
       "1   San Francisco International Airport          NaN            NaN   \n",
       "2   San Francisco International Airport          NaN            NaN   \n",
       "3   San Francisco International Airport          NaN            NaN   \n",
       "4   San Francisco International Airport          NaN            NaN   \n",
       "5   San Francisco International Airport          NaN            NaN   \n",
       "6   San Francisco International Airport          NaN            NaN   \n",
       "7   San Francisco International Airport          NaN            NaN   \n",
       "8   San Francisco International Airport          NaN            NaN   \n",
       "9   San Francisco International Airport          NaN            NaN   \n",
       "10  San Francisco International Airport          NaN            NaN   \n",
       "11  San Francisco International Airport          NaN            NaN   \n",
       "12  San Francisco International Airport          NaN            NaN   \n",
       "13  San Francisco International Airport          NaN            NaN   \n",
       "14  San Francisco International Airport          NaN            NaN   \n",
       "15  San Francisco International Airport          NaN            NaN   \n",
       "16  San Francisco International Airport          NaN            NaN   \n",
       "17  San Francisco International Airport          NaN            NaN   \n",
       "18  San Francisco International Airport          NaN            NaN   \n",
       "19  San Francisco International Airport          NaN            NaN   \n",
       "\n",
       "    shape_dist_traveled  timepoint  \n",
       "0                   NaN          1  \n",
       "1                   NaN          1  \n",
       "2                   NaN          1  \n",
       "3                   NaN          1  \n",
       "4                   NaN          1  \n",
       "5                   NaN          1  \n",
       "6                   NaN          1  \n",
       "7                   NaN          1  \n",
       "8                   NaN          1  \n",
       "9                   NaN          1  \n",
       "10                  NaN          1  \n",
       "11                  NaN          1  \n",
       "12                  NaN          1  \n",
       "13                  NaN          1  \n",
       "14                  NaN          1  \n",
       "15                  NaN          1  \n",
       "16                  NaN          1  \n",
       "17                  NaN          1  \n",
       "18                  NaN          1  \n",
       "19                  NaN          1  "
      ]
     },
     "execution_count": 7,
     "metadata": {},
     "output_type": "execute_result"
    }
   ],
   "source": [
    "# What is in the stop_times file?\n",
    "stop_times.head(20)"
   ]
  },
  {
   "cell_type": "markdown",
   "metadata": {},
   "source": [
    "## We create the network in three steps: adding nodes, adding node coordinates, adding edges."
   ]
  },
  {
   "cell_type": "code",
   "execution_count": 8,
   "metadata": {},
   "outputs": [
    {
     "data": {
      "text/plain": [
       "0     12TH\n",
       "1     16TH\n",
       "2     19TH\n",
       "3     24TH\n",
       "4     ANTC\n",
       "5     ASHB\n",
       "6     BALB\n",
       "7     BAYF\n",
       "8     CAST\n",
       "9     CIVC\n",
       "10    COLS\n",
       "11    COLM\n",
       "12    CONC\n",
       "13    DALY\n",
       "14    DBRK\n",
       "15    DUBL\n",
       "16    DELN\n",
       "17    PLZA\n",
       "18    EMBR\n",
       "19    FRMT\n",
       "Name: stop_id, dtype: object"
      ]
     },
     "execution_count": 8,
     "metadata": {},
     "output_type": "execute_result"
    }
   ],
   "source": [
    "# create an empty undirected graph\n",
    "G = nx.Graph()\n",
    "# find the list that contains all the stops\n",
    "stops['stop_id'].head(20)"
   ]
  },
  {
   "cell_type": "code",
   "execution_count": 9,
   "metadata": {},
   "outputs": [],
   "source": [
    "# add nodes\n",
    "G.add_nodes_from(stops['stop_id'])"
   ]
  },
  {
   "cell_type": "code",
   "execution_count": 10,
   "metadata": {},
   "outputs": [],
   "source": [
    "# create dictionaries of node coordinates and labels\n",
    "pos = dict(G.nodes)\n",
    "labels = dict(G.nodes)\n",
    "\n",
    "for stop in pos:\n",
    "    lon = float(stops[stops['stop_id'] == stop]['stop_lon'])\n",
    "    lat = float(stops[stops['stop_id'] == stop]['stop_lat'])\n",
    "    pos[stop] = (lon,lat)\n",
    "    name = stops[stops['stop_id']==stop].stop_name.values[0]\n",
    "    labels[stop] = str(name)"
   ]
  },
  {
   "cell_type": "code",
   "execution_count": 11,
   "metadata": {},
   "outputs": [],
   "source": [
    "# add links\n",
    "# What we want: a list of edge, in the form of tuples\n",
    "# For example, something like edge_list = [(stop_A,stop_B),(stop_B,stop_C)]\n",
    "# then we can do: G.add_edges_from(edge_list)"
   ]
  },
  {
   "cell_type": "code",
   "execution_count": 12,
   "metadata": {},
   "outputs": [],
   "source": [
    "# For each route, pick one trip and the corresponding stop lists\n",
    "route_ids = routes['route_id']\n",
    "edge_list = {}\n",
    "\n",
    "for route_id in route_ids:\n",
    "    trip_ids = trips[trips.route_id == route_id]['trip_id']\n",
    "    for trip_id in trip_ids:\n",
    "    # extract the stop lists for each trip id from stop_times\n",
    "        stop_list = list(stop_times[stop_times.trip_id == trip_id]['stop_id'])\n",
    "\n",
    "        # for each list, generate the pairs of edges and append them to edge_list\n",
    "        for i in range(0,len(stop_list)-1):\n",
    "            edge_tuple = (stop_list[i],stop_list[i+1])\n",
    "\n",
    "            if edge_tuple not in edge_list:\n",
    "                edge_list[edge_tuple] = 1\n",
    "            else: edge_list[edge_tuple] +=1"
   ]
  },
  {
   "cell_type": "code",
   "execution_count": 13,
   "metadata": {},
   "outputs": [],
   "source": [
    "#add weights\n",
    "edge_list_weighted =[]\n",
    "for edge in edge_list:\n",
    "    edge_list_weighted.append((edge[0],edge[1],edge_list[edge]))"
   ]
  },
  {
   "cell_type": "code",
   "execution_count": 14,
   "metadata": {},
   "outputs": [],
   "source": [
    "G.add_weighted_edges_from(edge_list_weighted)"
   ]
  },
  {
   "cell_type": "code",
   "execution_count": 15,
   "metadata": {},
   "outputs": [],
   "source": [
    "# Add some color for flow\n",
    "colors = ['red' if G[u][v]['weight']>50 else 'green' for u,v in G.edges]\n",
    "widths = [8.0 if G[u][v]['weight']>50 else 2.0 for u,v in G.edges]"
   ]
  },
  {
   "cell_type": "code",
   "execution_count": 16,
   "metadata": {
    "scrolled": true
   },
   "outputs": [
    {
     "data": {
      "image/png": "[encoded data removed]",
      "text/plain": [
       "<Figure size 1080x1080 with 1 Axes>"
      ]
     },
     "metadata": {},
     "output_type": "display_data"
    }
   ],
   "source": [
    "fig = plt.figure(figsize=(15,15))\n",
    "nx.draw_networkx(G,pos = pos,font_size =20,labels=labels,edge_color = colors,width=widths,with_labels=True, node_size = 50,node_color = 'black')\n",
    "plt.axis('off')\n",
    "plt.tight_layout()\n",
    "plt.savefig(\"Graph.png\", format=\"PNG\")\n",
    "plt.show()"
   ]
  },
  {
   "cell_type": "markdown",
   "metadata": {},
   "source": [
    "## Let's find the maximun of the shortest path lengths"
   ]
  },
  {
   "cell_type": "code",
   "execution_count": 17,
   "metadata": {},
   "outputs": [
    {
     "data": {
      "text/plain": [
       "1"
      ]
     },
     "execution_count": 17,
     "metadata": {},
     "output_type": "execute_result"
    }
   ],
   "source": [
    "## First we check that we \n",
    "comps = sorted(nx.connected_components(G),key = len, reverse=True)\n",
    "len(comps)"
   ]
  },
  {
   "cell_type": "code",
   "execution_count": 18,
   "metadata": {},
   "outputs": [],
   "source": [
    "#we could use this code to extract the largest connected components\n",
    "#nodes_gc=comps[0]\n",
    "#Gc = nx.subgraph(g,nodes_gc)"
   ]
  },
  {
   "cell_type": "code",
   "execution_count": 19,
   "metadata": {},
   "outputs": [
    {
     "name": "stdout",
     "output_type": "stream",
     "text": [
      "For  12TH  max length is  14\n",
      "For  16TH  max length is  15\n",
      "For  19TH  max length is  15\n",
      "For  24TH  max length is  16\n",
      "For  ANTC  max length is  19\n",
      "For  ASHB  max length is  17\n",
      "For  BALB  max length is  18\n",
      "For  BAYF  max length is  18\n",
      "For  CAST  max length is  19\n",
      "For  CIVC  max length is  14\n",
      "For  COLS  max length is  16\n",
      "For  COLM  max length is  20\n",
      "For  CONC  max length is  18\n",
      "For  DALY  max length is  19\n",
      "For  DBRK  max length is  18\n",
      "For  DUBL  max length is  21\n",
      "For  DELN  max length is  21\n",
      "For  PLZA  max length is  20\n",
      "For  EMBR  max length is  12\n",
      "For  FRMT  max length is  22\n",
      "For  FTVL  max length is  15\n",
      "For  GLEN  max length is  17\n",
      "For  HAYW  max length is  19\n",
      "For  LAFY  max length is  19\n",
      "For  LAKE  max length is  14\n",
      "For  MCAR  max length is  16\n",
      "For  MLBR  max length is  23\n",
      "For  MONT  max length is  12\n",
      "For  NBRK  max length is  19\n",
      "For  NCON  max length is  18\n",
      "For  OAKL  max length is  17\n",
      "For  ORIN  max length is  18\n",
      "For  PITT  max length is  17\n",
      "For  PCTR  max length is  18\n",
      "For  PHIL  max length is  17\n",
      "For  POWL  max length is  13\n",
      "For  RICH  max length is  22\n",
      "For  ROCK  max length is  17\n",
      "For  SBRN  max length is  22\n",
      "For  SFIA  max length is  23\n",
      "For  SANL  max length is  17\n",
      "For  SHAY  max length is  20\n",
      "For  SSAN  max length is  21\n",
      "For  UCTY  max length is  21\n",
      "For  WCRK  max length is  18\n",
      "For  WARM  max length is  23\n",
      "For  WDUB  max length is  20\n",
      "For  WOAK  max length is  13\n",
      "The maximun length in the network is  23\n"
     ]
    }
   ],
   "source": [
    "lengths = nx.shortest_path_length(G)\n",
    "st_length = {}  #this will saves the maximun path per station\n",
    "ml=0\n",
    "for key in lengths:   #iterates in all the lengths per station \n",
    "   ll = key     #only gives an intuitive name\n",
    "   i = max(ll[1].values())  #finds the maximun value of length    \n",
    "   st_length[ll[0]] = i  #ll[0] has the name of the station and and i the value \n",
    "   if i > ml:\n",
    "      ml = i  #this will save the overall maximun\n",
    "   print(\"For \", ll[0],\" max length is \",i) \n",
    "\n",
    "print(\"The maximun length in the network is \",ml)"
   ]
  },
  {
   "cell_type": "code",
   "execution_count": 20,
   "metadata": {},
   "outputs": [
    {
     "name": "stdout",
     "output_type": "stream",
     "text": [
      "MLBR\n",
      "['MLBR', 'SBRN', 'SSAN', 'COLM', 'DALY', 'BALB', 'GLEN', '24TH', '16TH', 'CIVC', 'POWL', 'MONT', 'EMBR', 'WOAK', 'LAKE', 'FTVL', 'COLS', 'SANL', 'BAYF', 'HAYW', 'SHAY', 'UCTY', 'FRMT', 'WARM']\n",
      "SFIA\n",
      "['SFIA', 'SBRN', 'SSAN', 'COLM', 'DALY', 'BALB', 'GLEN', '24TH', '16TH', 'CIVC', 'POWL', 'MONT', 'EMBR', 'WOAK', 'LAKE', 'FTVL', 'COLS', 'SANL', 'BAYF', 'HAYW', 'SHAY', 'UCTY', 'FRMT', 'WARM']\n",
      "WARM\n",
      "['WARM', 'FRMT', 'UCTY', 'SHAY', 'HAYW', 'BAYF', 'SANL', 'COLS', 'FTVL', 'LAKE', 'WOAK', 'EMBR', 'MONT', 'POWL', 'CIVC', '16TH', '24TH', 'GLEN', 'BALB', 'DALY', 'COLM', 'SSAN', 'SBRN', 'SFIA']\n",
      "['WARM', 'FRMT', 'UCTY', 'SHAY', 'HAYW', 'BAYF', 'SANL', 'COLS', 'FTVL', 'LAKE', 'WOAK', 'EMBR', 'MONT', 'POWL', 'CIVC', '16TH', '24TH', 'GLEN', 'BALB', 'DALY', 'COLM', 'SSAN', 'SBRN', 'MLBR']\n"
     ]
    }
   ],
   "source": [
    "for key in st_length:  #iterates all lengths of each node\n",
    "    if st_length[key] == ml: #if it equals to the maximun\n",
    "        print(key)   #prints the name of the station\n",
    "        p = nx.shortest_path(G,key)  #calculates all shorthest path from that station\n",
    "        for k in p:   #iterates all the paths\n",
    "            if nx.shortest_path_length(G,key,k)==ml: #finds the path that has a length \n",
    "                                                   #equal to the maximum   \n",
    "                print(p[k])   # writes the path"
   ]
  },
  {
   "cell_type": "code",
   "execution_count": 21,
   "metadata": {},
   "outputs": [],
   "source": [
    "lengths = nx.shortest_path_length(G)\n",
    "plengths=[]\n",
    "for key in lengths:   #iterates all the lengths\n",
    "   ll = key\n",
    "   for i in list(ll[1].values()):    #saves a list with the lengths greater than zero\n",
    "      if i > 0:plengths.append(i)"
   ]
  },
  {
   "cell_type": "code",
   "execution_count": 22,
   "metadata": {},
   "outputs": [
    {
     "data": {
      "text/plain": [
       "2256"
      ]
     },
     "execution_count": 22,
     "metadata": {},
     "output_type": "execute_result"
    }
   ],
   "source": [
    "len(plengths)"
   ]
  },
  {
   "cell_type": "markdown",
   "metadata": {},
   "source": [
    "### Number of Path Lengths"
   ]
  },
  {
   "cell_type": "markdown",
   "metadata": {},
   "source": [
    "#Write the nuber of path lenths as the combination of number of nodes"
   ]
  },
  {
   "cell_type": "code",
   "execution_count": 23,
   "metadata": {},
   "outputs": [
    {
     "data": {
      "image/png": "[encoded data removed]",
      "text/plain": [
       "<Figure size 432x288 with 1 Axes>"
      ]
     },
     "metadata": {
      "needs_background": "light"
     },
     "output_type": "display_data"
    }
   ],
   "source": [
    "import numpy as np\n",
    "\n",
    "hist4, bins4 = np.histogram(plengths, bins = range(1,35))\n",
    "\n",
    "plt.bar(bins4[:-1], hist4, align = 'center', color = 'b')\n",
    "\n",
    "plt.xlabel(\"Path Length\")\n",
    "plt.ylabel(\"Number of Paths\")\n",
    "plt.title(\"Distribution of Shortest Path Lengths\")\n",
    "plt.show()"
   ]
  },
  {
   "cell_type": "code",
   "execution_count": 24,
   "metadata": {},
   "outputs": [
    {
     "data": {
      "text/plain": [
       "48"
      ]
     },
     "execution_count": 24,
     "metadata": {},
     "output_type": "execute_result"
    }
   ],
   "source": [
    "G.number_of_nodes()"
   ]
  },
  {
   "cell_type": "code",
   "execution_count": 25,
   "metadata": {},
   "outputs": [
    {
     "data": {
      "text/plain": [
       "2256.0"
      ]
     },
     "execution_count": 25,
     "metadata": {},
     "output_type": "execute_result"
    }
   ],
   "source": [
    "(48.0*47.0)"
   ]
  },
  {
   "cell_type": "code",
   "execution_count": 26,
   "metadata": {},
   "outputs": [
    {
     "data": {
      "text/plain": [
       "9.0177304964539"
      ]
     },
     "execution_count": 26,
     "metadata": {},
     "output_type": "execute_result"
    }
   ],
   "source": [
    "nx.average_shortest_path_length(G)"
   ]
  },
  {
   "cell_type": "code",
   "execution_count": 27,
   "metadata": {},
   "outputs": [],
   "source": [
    "Gs = nx.path_graph(6)"
   ]
  },
  {
   "cell_type": "code",
   "execution_count": 28,
   "metadata": {},
   "outputs": [],
   "source": [
    "center_nodes = {0, 3}"
   ]
  },
  {
   "cell_type": "code",
   "execution_count": 29,
   "metadata": {},
   "outputs": [],
   "source": [
    "cells = nx.voronoi_cells(Gs, center_nodes)"
   ]
  },
  {
   "cell_type": "code",
   "execution_count": 30,
   "metadata": {},
   "outputs": [],
   "source": [
    "partition = set(map(frozenset, cells.values()))"
   ]
  },
  {
   "cell_type": "code",
   "execution_count": 31,
   "metadata": {},
   "outputs": [
    {
     "data": {
      "text/plain": [
       "[[0, 1], [2, 3, 4, 5]]"
      ]
     },
     "execution_count": 31,
     "metadata": {},
     "output_type": "execute_result"
    }
   ],
   "source": [
    "sorted(map(sorted, partition))"
   ]
  }
 ],
 "metadata": {
  "anaconda-cloud": {},
  "kernelspec": {
   "display_name": "Python 3",
   "language": "python",
   "name": "python3"
  },
  "language_info": {
   "codemirror_mode": {
    "name": "ipython",
    "version": 3
   },
   "file_extension": ".py",
   "mimetype": "text/x-python",
   "name": "python",
   "nbconvert_exporter": "python",
   "pygments_lexer": "ipython3",
   "version": "3.7.6"
  },
  "varInspector": {
   "cols": {
    "lenName": 16,
    "lenType": 16,
    "lenVar": 40
   },
   "kernels_config": {
    "python": {
     "delete_cmd_postfix": "",
     "delete_cmd_prefix": "del ",
     "library": "var_list.py",
     "varRefreshCmd": "print(var_dic_list())"
    },
    "r": {
     "delete_cmd_postfix": ") ",
     "delete_cmd_prefix": "rm(",
     "library": "var_list.r",
     "varRefreshCmd": "cat(var_dic_list()) "
    }
   },
   "types_to_exclude": [
    "module",
    "function",
    "builtin_function_or_method",
    "instance",
    "_Feature"
   ],
   "window_display": false
  }
 },
 "nbformat": 4,
 "nbformat_minor": 2
}
